{
 "cells": [
  {
   "cell_type": "code",
   "execution_count": 1,
   "id": "a9c0a19e",
   "metadata": {},
   "outputs": [],
   "source": [
    "# This script is for RF GridSearch\n",
    "# Take 70% Dataset 3 BUF for example"
   ]
  },
  {
   "cell_type": "code",
   "execution_count": 2,
   "id": "26a752f9",
   "metadata": {},
   "outputs": [],
   "source": [
    "# Packages\n",
    "import pandas as pd\n",
    "import numpy as np\n",
    "from sklearn.preprocessing import StandardScaler\n",
    "from sklearn.pipeline import Pipeline\n",
    "from sklearn.ensemble import RandomForestRegressor\n",
    "from sklearn.model_selection import GridSearchCV"
   ]
  },
  {
   "cell_type": "code",
   "execution_count": 3,
   "id": "a1808cec",
   "metadata": {},
   "outputs": [],
   "source": [
    "# Read the files\n",
    "X_sociodemo_train = pd.read_csv(\"../Data/04 Data for RF and DNN Optimal Parameters Search/04 70%_Buf_1000/X_sociodemo_train.csv\", index_col='GEOID')\n",
    "y_train = pd.read_csv(\"../Data/04 Data for RF and DNN Optimal Parameters Search/04 70%_Buf_1000/y_train.csv\", index_col='GEOID')"
   ]
  },
  {
   "cell_type": "code",
   "execution_count": 4,
   "id": "1b299a17",
   "metadata": {},
   "outputs": [],
   "source": [
    "# Flatten y_train\n",
    "y_train = np.ravel(y_train)"
   ]
  },
  {
   "cell_type": "code",
   "execution_count": 5,
   "id": "b1215734",
   "metadata": {},
   "outputs": [
    {
     "data": {
      "text/html": [
       "<div>\n",
       "<style scoped>\n",
       "    .dataframe tbody tr th:only-of-type {\n",
       "        vertical-align: middle;\n",
       "    }\n",
       "\n",
       "    .dataframe tbody tr th {\n",
       "        vertical-align: top;\n",
       "    }\n",
       "\n",
       "    .dataframe thead th {\n",
       "        text-align: right;\n",
       "    }\n",
       "</style>\n",
       "<table border=\"1\" class=\"dataframe\">\n",
       "  <thead>\n",
       "    <tr style=\"text-align: right;\">\n",
       "      <th></th>\n",
       "      <th>% Black</th>\n",
       "      <th>% Ame Indi and AK Native</th>\n",
       "      <th>% Asian</th>\n",
       "      <th>% Nati Hawa and Paci Island</th>\n",
       "      <th>% Hispanic or Latino</th>\n",
       "      <th>% male</th>\n",
       "      <th>% married</th>\n",
       "      <th>% age 18-29</th>\n",
       "      <th>% age 30-39</th>\n",
       "      <th>% age 40-49</th>\n",
       "      <th>...</th>\n",
       "      <th>% age &gt;=60</th>\n",
       "      <th>% &lt;highschool</th>\n",
       "      <th>median income</th>\n",
       "      <th>% unemployment</th>\n",
       "      <th>% below poverty line</th>\n",
       "      <th>% food stamp/SNAP</th>\n",
       "      <th>median value units built</th>\n",
       "      <th>median year units built</th>\n",
       "      <th>% renter-occupied housing units</th>\n",
       "      <th>population density</th>\n",
       "    </tr>\n",
       "    <tr>\n",
       "      <th>GEOID</th>\n",
       "      <th></th>\n",
       "      <th></th>\n",
       "      <th></th>\n",
       "      <th></th>\n",
       "      <th></th>\n",
       "      <th></th>\n",
       "      <th></th>\n",
       "      <th></th>\n",
       "      <th></th>\n",
       "      <th></th>\n",
       "      <th></th>\n",
       "      <th></th>\n",
       "      <th></th>\n",
       "      <th></th>\n",
       "      <th></th>\n",
       "      <th></th>\n",
       "      <th></th>\n",
       "      <th></th>\n",
       "      <th></th>\n",
       "      <th></th>\n",
       "      <th></th>\n",
       "    </tr>\n",
       "  </thead>\n",
       "  <tbody>\n",
       "    <tr>\n",
       "      <th>36029001100</th>\n",
       "      <td>0.057063</td>\n",
       "      <td>0.015310</td>\n",
       "      <td>0.032359</td>\n",
       "      <td>0.0</td>\n",
       "      <td>0.105428</td>\n",
       "      <td>0.525052</td>\n",
       "      <td>0.324919</td>\n",
       "      <td>0.186152</td>\n",
       "      <td>0.134308</td>\n",
       "      <td>0.092206</td>\n",
       "      <td>...</td>\n",
       "      <td>0.217815</td>\n",
       "      <td>0.170852</td>\n",
       "      <td>37886</td>\n",
       "      <td>0.071886</td>\n",
       "      <td>0.213184</td>\n",
       "      <td>0.239050</td>\n",
       "      <td>74300</td>\n",
       "      <td>1939</td>\n",
       "      <td>0.543430</td>\n",
       "      <td>1885.467988</td>\n",
       "    </tr>\n",
       "    <tr>\n",
       "      <th>36029005801</th>\n",
       "      <td>0.110658</td>\n",
       "      <td>0.004622</td>\n",
       "      <td>0.043230</td>\n",
       "      <td>0.0</td>\n",
       "      <td>0.249320</td>\n",
       "      <td>0.450517</td>\n",
       "      <td>0.265847</td>\n",
       "      <td>0.161773</td>\n",
       "      <td>0.127243</td>\n",
       "      <td>0.091898</td>\n",
       "      <td>...</td>\n",
       "      <td>0.156879</td>\n",
       "      <td>0.206461</td>\n",
       "      <td>26111</td>\n",
       "      <td>0.085294</td>\n",
       "      <td>0.422784</td>\n",
       "      <td>0.471989</td>\n",
       "      <td>70500</td>\n",
       "      <td>1939</td>\n",
       "      <td>0.621148</td>\n",
       "      <td>5311.666893</td>\n",
       "    </tr>\n",
       "    <tr>\n",
       "      <th>36029006602</th>\n",
       "      <td>0.196508</td>\n",
       "      <td>0.004872</td>\n",
       "      <td>0.023143</td>\n",
       "      <td>0.0</td>\n",
       "      <td>0.041007</td>\n",
       "      <td>0.485181</td>\n",
       "      <td>0.320053</td>\n",
       "      <td>0.218433</td>\n",
       "      <td>0.116931</td>\n",
       "      <td>0.131141</td>\n",
       "      <td>...</td>\n",
       "      <td>0.331709</td>\n",
       "      <td>0.097209</td>\n",
       "      <td>52774</td>\n",
       "      <td>0.049477</td>\n",
       "      <td>0.131878</td>\n",
       "      <td>0.267767</td>\n",
       "      <td>286700</td>\n",
       "      <td>1939</td>\n",
       "      <td>0.685571</td>\n",
       "      <td>5519.723543</td>\n",
       "    </tr>\n",
       "    <tr>\n",
       "      <th>36029000500</th>\n",
       "      <td>0.062950</td>\n",
       "      <td>0.000000</td>\n",
       "      <td>0.000000</td>\n",
       "      <td>0.0</td>\n",
       "      <td>0.153477</td>\n",
       "      <td>0.432854</td>\n",
       "      <td>0.361005</td>\n",
       "      <td>0.118106</td>\n",
       "      <td>0.126499</td>\n",
       "      <td>0.083933</td>\n",
       "      <td>...</td>\n",
       "      <td>0.220624</td>\n",
       "      <td>0.228101</td>\n",
       "      <td>26605</td>\n",
       "      <td>0.063401</td>\n",
       "      <td>0.414311</td>\n",
       "      <td>0.331218</td>\n",
       "      <td>50800</td>\n",
       "      <td>1939</td>\n",
       "      <td>0.376904</td>\n",
       "      <td>266.853532</td>\n",
       "    </tr>\n",
       "    <tr>\n",
       "      <th>36029006902</th>\n",
       "      <td>0.156107</td>\n",
       "      <td>0.006745</td>\n",
       "      <td>0.139484</td>\n",
       "      <td>0.0</td>\n",
       "      <td>0.229824</td>\n",
       "      <td>0.506384</td>\n",
       "      <td>0.348930</td>\n",
       "      <td>0.189593</td>\n",
       "      <td>0.197543</td>\n",
       "      <td>0.100458</td>\n",
       "      <td>...</td>\n",
       "      <td>0.184775</td>\n",
       "      <td>0.257278</td>\n",
       "      <td>26226</td>\n",
       "      <td>0.095465</td>\n",
       "      <td>0.397037</td>\n",
       "      <td>0.381648</td>\n",
       "      <td>123600</td>\n",
       "      <td>1939</td>\n",
       "      <td>0.654849</td>\n",
       "      <td>6411.702013</td>\n",
       "    </tr>\n",
       "  </tbody>\n",
       "</table>\n",
       "<p>5 rows × 21 columns</p>\n",
       "</div>"
      ],
      "text/plain": [
       "              % Black  % Ame Indi and AK Native   % Asian  \\\n",
       "GEOID                                                       \n",
       "36029001100  0.057063                  0.015310  0.032359   \n",
       "36029005801  0.110658                  0.004622  0.043230   \n",
       "36029006602  0.196508                  0.004872  0.023143   \n",
       "36029000500  0.062950                  0.000000  0.000000   \n",
       "36029006902  0.156107                  0.006745  0.139484   \n",
       "\n",
       "             % Nati Hawa and Paci Island  % Hispanic or Latino    % male  \\\n",
       "GEOID                                                                      \n",
       "36029001100                          0.0              0.105428  0.525052   \n",
       "36029005801                          0.0              0.249320  0.450517   \n",
       "36029006602                          0.0              0.041007  0.485181   \n",
       "36029000500                          0.0              0.153477  0.432854   \n",
       "36029006902                          0.0              0.229824  0.506384   \n",
       "\n",
       "             % married  % age 18-29  % age 30-39  % age 40-49  ...  \\\n",
       "GEOID                                                          ...   \n",
       "36029001100   0.324919     0.186152     0.134308     0.092206  ...   \n",
       "36029005801   0.265847     0.161773     0.127243     0.091898  ...   \n",
       "36029006602   0.320053     0.218433     0.116931     0.131141  ...   \n",
       "36029000500   0.361005     0.118106     0.126499     0.083933  ...   \n",
       "36029006902   0.348930     0.189593     0.197543     0.100458  ...   \n",
       "\n",
       "             % age >=60  % <highschool  median income  % unemployment  \\\n",
       "GEOID                                                                   \n",
       "36029001100    0.217815       0.170852          37886        0.071886   \n",
       "36029005801    0.156879       0.206461          26111        0.085294   \n",
       "36029006602    0.331709       0.097209          52774        0.049477   \n",
       "36029000500    0.220624       0.228101          26605        0.063401   \n",
       "36029006902    0.184775       0.257278          26226        0.095465   \n",
       "\n",
       "             % below poverty line  % food stamp/SNAP  \\\n",
       "GEOID                                                  \n",
       "36029001100              0.213184           0.239050   \n",
       "36029005801              0.422784           0.471989   \n",
       "36029006602              0.131878           0.267767   \n",
       "36029000500              0.414311           0.331218   \n",
       "36029006902              0.397037           0.381648   \n",
       "\n",
       "             median value units built  median year units built  \\\n",
       "GEOID                                                            \n",
       "36029001100                     74300                     1939   \n",
       "36029005801                     70500                     1939   \n",
       "36029006602                    286700                     1939   \n",
       "36029000500                     50800                     1939   \n",
       "36029006902                    123600                     1939   \n",
       "\n",
       "             % renter-occupied housing units  population density  \n",
       "GEOID                                                             \n",
       "36029001100                         0.543430         1885.467988  \n",
       "36029005801                         0.621148         5311.666893  \n",
       "36029006602                         0.685571         5519.723543  \n",
       "36029000500                         0.376904          266.853532  \n",
       "36029006902                         0.654849         6411.702013  \n",
       "\n",
       "[5 rows x 21 columns]"
      ]
     },
     "execution_count": 5,
     "metadata": {},
     "output_type": "execute_result"
    }
   ],
   "source": [
    "X_sociodemo_train.head()"
   ]
  },
  {
   "cell_type": "code",
   "execution_count": 6,
   "id": "5639f119",
   "metadata": {},
   "outputs": [
    {
     "data": {
      "text/plain": [
       "(54, 54)"
      ]
     },
     "execution_count": 6,
     "metadata": {},
     "output_type": "execute_result"
    }
   ],
   "source": [
    "len(X_sociodemo_train), len(y_train)"
   ]
  },
  {
   "cell_type": "code",
   "execution_count": 7,
   "id": "b561bd82",
   "metadata": {},
   "outputs": [
    {
     "data": {
      "text/plain": [
       "array([33.4, 37.4, 28.2, 38.6, 33.9, 30.2, 42.8, 42.4, 29.1, 37.3, 47.2,\n",
       "       39. , 36.6, 29.8, 41.1, 44. , 30.2, 47. , 49.1, 45.1, 46. , 46.6,\n",
       "       47.5, 26.2, 46.1, 30.5, 44.1, 46.9, 44.7, 37.8, 40.8, 26.7, 33.5,\n",
       "       39. , 43.5, 36.1, 46.3, 27. , 39.8, 32.4, 28.6, 31.6, 26.2, 43.5,\n",
       "       41.7, 34.3, 47. , 30.8, 29.4, 42.3, 33.6, 30. , 26.1, 41.7])"
      ]
     },
     "execution_count": 7,
     "metadata": {},
     "output_type": "execute_result"
    }
   ],
   "source": [
    "y_train"
   ]
  },
  {
   "cell_type": "code",
   "execution_count": 8,
   "id": "6b6fc0d2",
   "metadata": {},
   "outputs": [
    {
     "data": {
      "text/plain": [
       "21"
      ]
     },
     "execution_count": 8,
     "metadata": {},
     "output_type": "execute_result"
    }
   ],
   "source": [
    "# Store the number of sociodemographic features\n",
    "number_sociodemo = len(X_sociodemo_train.columns)\n",
    "number_sociodemo"
   ]
  },
  {
   "cell_type": "code",
   "execution_count": 12,
   "id": "a2c7e5ed",
   "metadata": {},
   "outputs": [],
   "source": [
    "# Create list of max_features to be searched\n",
    "max_features = [number_sociodemo, int(number_sociodemo/2), int(number_sociodemo/3), 'sqrt', 'log2']"
   ]
  },
  {
   "cell_type": "code",
   "execution_count": 13,
   "id": "b2dc7b3a",
   "metadata": {},
   "outputs": [
    {
     "data": {
      "text/plain": [
       "GridSearchCV(cv=10,\n",
       "             estimator=Pipeline(steps=[('scale', StandardScaler()),\n",
       "                                       ('model',\n",
       "                                        RandomForestRegressor(random_state=42))]),\n",
       "             n_jobs=-1,\n",
       "             param_grid=[{'model__bootstrap': [False],\n",
       "                          'model__max_features': [21, 10, 7, 'sqrt', 'log2'],\n",
       "                          'model__n_estimators': range(10, 1010, 10)}],\n",
       "             return_train_score=True, scoring='neg_mean_squared_error')"
      ]
     },
     "execution_count": 13,
     "metadata": {},
     "output_type": "execute_result"
    }
   ],
   "source": [
    "# Grid search - sociodemographic features\n",
    "rf = RandomForestRegressor(random_state=42)\n",
    "\n",
    "RandomForestRegressor()\n",
    "\n",
    "pipe = Pipeline([\n",
    "    ('scale', StandardScaler()), # standardization data set\n",
    "    ('model', rf)\n",
    "])\n",
    "\n",
    "param_grid = [\n",
    "    {'model__bootstrap':[False],\n",
    "     'model__n_estimators': range(10, 1010, 10),\n",
    "     'model__max_features':max_features}\n",
    "]\n",
    "\n",
    "rf_sociodemo_search = GridSearchCV(pipe, param_grid, cv=10, scoring='neg_mean_squared_error', n_jobs=-1, return_train_score=True)\n",
    "rf_sociodemo_search.fit(X_sociodemo_train, y_train)"
   ]
  },
  {
   "cell_type": "code",
   "execution_count": 14,
   "id": "9f38440d",
   "metadata": {},
   "outputs": [
    {
     "name": "stdout",
     "output_type": "stream",
     "text": [
      "{'model__bootstrap': False, 'model__max_features': 'sqrt', 'model__n_estimators': 160}\n"
     ]
    }
   ],
   "source": [
    "# Optimal parameters for sociodemographic features\n",
    "print(rf_sociodemo_search.best_params_)"
   ]
  },
  {
   "cell_type": "code",
   "execution_count": 14,
   "id": "af883277",
   "metadata": {},
   "outputs": [],
   "source": [
    "rf_sociodemo_search.best_params_results = pd.DataFrame(rf_sociodemo_search.best_params_, index = [0])\n",
    "rf_sociodemo_search.best_params_results.to_csv(\"../Data/04 Data for RF and DNN Optimal Parameters Search/04 70%_Buf_1000/rf_sociodemo_search.best_params_results.csv\", index=False)"
   ]
  },
  {
   "cell_type": "code",
   "execution_count": 15,
   "id": "e1f23402",
   "metadata": {},
   "outputs": [],
   "source": [
    "# Obtain all the searching results\n",
    "sociodemo_cvres = rf_sociodemo_search.cv_results_\n",
    "\n",
    "df_sociodemo_all_results = pd.DataFrame(sociodemo_cvres)\n",
    "df_sociodemo_all_results.to_csv(\"../Data/04 Data for RF and DNN Optimal Parameters Search/04 70%_Buf_1000/rf_sociodemo_all_results.csv\", index=False)\n",
    "\n",
    "df_sociodemo_param_score = pd.DataFrame({'param':sociodemo_cvres['params'], 'rmts':np.sqrt(-sociodemo_cvres['mean_test_score'])}) #- suppose = negative, need to find out\n",
    "df_sociodemo_param_score.to_csv(\"../Data/04 Data for RF and DNN Optimal Parameters Search/04 70%_Buf_1000/rf_sociodemo_param_score.csv\", index=False)"
   ]
  }
 ],
 "metadata": {
  "kernelspec": {
   "display_name": "Python 3 (ipykernel)",
   "language": "python",
   "name": "python3"
  },
  "language_info": {
   "codemirror_mode": {
    "name": "ipython",
    "version": 3
   },
   "file_extension": ".py",
   "mimetype": "text/x-python",
   "name": "python",
   "nbconvert_exporter": "python",
   "pygments_lexer": "ipython3",
   "version": "3.9.12"
  }
 },
 "nbformat": 4,
 "nbformat_minor": 5
}
