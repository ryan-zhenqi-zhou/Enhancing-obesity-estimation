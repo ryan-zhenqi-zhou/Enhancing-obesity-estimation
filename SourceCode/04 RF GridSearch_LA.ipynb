{
 "cells": [
  {
   "cell_type": "code",
   "execution_count": 1,
   "id": "a9c0a19e",
   "metadata": {},
   "outputs": [],
   "source": [
    "# This script is for RF GridSearch\n",
    "# Take 70% Dataset 3 LA for example"
   ]
  },
  {
   "cell_type": "code",
   "execution_count": 2,
   "id": "26a752f9",
   "metadata": {},
   "outputs": [],
   "source": [
    "# Packages\n",
    "import pandas as pd\n",
    "import numpy as np\n",
    "from sklearn.preprocessing import StandardScaler\n",
    "from sklearn.pipeline import Pipeline\n",
    "from sklearn.ensemble import RandomForestRegressor\n",
    "from sklearn.model_selection import GridSearchCV"
   ]
  },
  {
   "cell_type": "code",
   "execution_count": 3,
   "id": "a1808cec",
   "metadata": {},
   "outputs": [],
   "source": [
    "# Read the files\n",
    "X_sociodemo_train = pd.read_csv(\"../Data/04 Data for RF and DNN Optimal Parameters Search/03 70%_LA_1000/X_sociodemo_train.csv\", index_col='GEOID')\n",
    "y_train = pd.read_csv(\"../Data/04 Data for RF and DNN Optimal Parameters Search/03 70%_LA_1000/y_train.csv\", index_col='GEOID')"
   ]
  },
  {
   "cell_type": "code",
   "execution_count": 4,
   "id": "1b299a17",
   "metadata": {},
   "outputs": [],
   "source": [
    "# Flatten y_train\n",
    "y_train = np.ravel(y_train)"
   ]
  },
  {
   "cell_type": "code",
   "execution_count": 5,
   "id": "b1215734",
   "metadata": {},
   "outputs": [
    {
     "data": {
      "text/html": [
       "<div>\n",
       "<style scoped>\n",
       "    .dataframe tbody tr th:only-of-type {\n",
       "        vertical-align: middle;\n",
       "    }\n",
       "\n",
       "    .dataframe tbody tr th {\n",
       "        vertical-align: top;\n",
       "    }\n",
       "\n",
       "    .dataframe thead th {\n",
       "        text-align: right;\n",
       "    }\n",
       "</style>\n",
       "<table border=\"1\" class=\"dataframe\">\n",
       "  <thead>\n",
       "    <tr style=\"text-align: right;\">\n",
       "      <th></th>\n",
       "      <th>% Black</th>\n",
       "      <th>% Ame Indi and AK Native</th>\n",
       "      <th>% Asian</th>\n",
       "      <th>% Nati Hawa and Paci Island</th>\n",
       "      <th>% Hispanic or Latino</th>\n",
       "      <th>% male</th>\n",
       "      <th>% married</th>\n",
       "      <th>% age 18-29</th>\n",
       "      <th>% age 30-39</th>\n",
       "      <th>% age 40-49</th>\n",
       "      <th>...</th>\n",
       "      <th>% age &gt;=60</th>\n",
       "      <th>% &lt;highschool</th>\n",
       "      <th>median income</th>\n",
       "      <th>% unemployment</th>\n",
       "      <th>% below poverty line</th>\n",
       "      <th>% food stamp/SNAP</th>\n",
       "      <th>median value units built</th>\n",
       "      <th>median year units built</th>\n",
       "      <th>% renter-occupied housing units</th>\n",
       "      <th>population density</th>\n",
       "    </tr>\n",
       "    <tr>\n",
       "      <th>GEOID</th>\n",
       "      <th></th>\n",
       "      <th></th>\n",
       "      <th></th>\n",
       "      <th></th>\n",
       "      <th></th>\n",
       "      <th></th>\n",
       "      <th></th>\n",
       "      <th></th>\n",
       "      <th></th>\n",
       "      <th></th>\n",
       "      <th></th>\n",
       "      <th></th>\n",
       "      <th></th>\n",
       "      <th></th>\n",
       "      <th></th>\n",
       "      <th></th>\n",
       "      <th></th>\n",
       "      <th></th>\n",
       "      <th></th>\n",
       "      <th></th>\n",
       "      <th></th>\n",
       "    </tr>\n",
       "  </thead>\n",
       "  <tbody>\n",
       "    <tr>\n",
       "      <th>6037127605</th>\n",
       "      <td>0.018509</td>\n",
       "      <td>0.000000</td>\n",
       "      <td>0.056028</td>\n",
       "      <td>0.000000</td>\n",
       "      <td>0.801151</td>\n",
       "      <td>0.531016</td>\n",
       "      <td>0.461859</td>\n",
       "      <td>0.200100</td>\n",
       "      <td>0.210105</td>\n",
       "      <td>0.113557</td>\n",
       "      <td>...</td>\n",
       "      <td>0.071786</td>\n",
       "      <td>0.302725</td>\n",
       "      <td>41701</td>\n",
       "      <td>0.102301</td>\n",
       "      <td>0.285248</td>\n",
       "      <td>0.185833</td>\n",
       "      <td>469400</td>\n",
       "      <td>1976</td>\n",
       "      <td>0.927323</td>\n",
       "      <td>6165.975475</td>\n",
       "    </tr>\n",
       "    <tr>\n",
       "      <th>6037271701</th>\n",
       "      <td>0.126190</td>\n",
       "      <td>0.003116</td>\n",
       "      <td>0.235070</td>\n",
       "      <td>0.000000</td>\n",
       "      <td>0.156656</td>\n",
       "      <td>0.480872</td>\n",
       "      <td>0.385144</td>\n",
       "      <td>0.274364</td>\n",
       "      <td>0.180197</td>\n",
       "      <td>0.136057</td>\n",
       "      <td>...</td>\n",
       "      <td>0.203393</td>\n",
       "      <td>0.021130</td>\n",
       "      <td>91567</td>\n",
       "      <td>0.068697</td>\n",
       "      <td>0.091652</td>\n",
       "      <td>0.019502</td>\n",
       "      <td>1045700</td>\n",
       "      <td>1968</td>\n",
       "      <td>0.726616</td>\n",
       "      <td>5796.226082</td>\n",
       "    </tr>\n",
       "    <tr>\n",
       "      <th>6037276000</th>\n",
       "      <td>0.047294</td>\n",
       "      <td>0.013307</td>\n",
       "      <td>0.133969</td>\n",
       "      <td>0.000000</td>\n",
       "      <td>0.230714</td>\n",
       "      <td>0.506923</td>\n",
       "      <td>0.517106</td>\n",
       "      <td>0.118684</td>\n",
       "      <td>0.132170</td>\n",
       "      <td>0.136666</td>\n",
       "      <td>...</td>\n",
       "      <td>0.270455</td>\n",
       "      <td>0.033132</td>\n",
       "      <td>124904</td>\n",
       "      <td>0.019415</td>\n",
       "      <td>0.051789</td>\n",
       "      <td>0.008768</td>\n",
       "      <td>875400</td>\n",
       "      <td>1949</td>\n",
       "      <td>0.216284</td>\n",
       "      <td>2379.017180</td>\n",
       "    </tr>\n",
       "    <tr>\n",
       "      <th>6037213202</th>\n",
       "      <td>0.013926</td>\n",
       "      <td>0.005624</td>\n",
       "      <td>0.269416</td>\n",
       "      <td>0.000000</td>\n",
       "      <td>0.656936</td>\n",
       "      <td>0.500536</td>\n",
       "      <td>0.363458</td>\n",
       "      <td>0.207552</td>\n",
       "      <td>0.186931</td>\n",
       "      <td>0.115694</td>\n",
       "      <td>...</td>\n",
       "      <td>0.189877</td>\n",
       "      <td>0.351434</td>\n",
       "      <td>37656</td>\n",
       "      <td>0.092937</td>\n",
       "      <td>0.275576</td>\n",
       "      <td>0.117331</td>\n",
       "      <td>577800</td>\n",
       "      <td>1943</td>\n",
       "      <td>0.829755</td>\n",
       "      <td>11054.794360</td>\n",
       "    </tr>\n",
       "    <tr>\n",
       "      <th>6037239601</th>\n",
       "      <td>0.184073</td>\n",
       "      <td>0.017636</td>\n",
       "      <td>0.002204</td>\n",
       "      <td>0.016533</td>\n",
       "      <td>0.793331</td>\n",
       "      <td>0.510885</td>\n",
       "      <td>0.403396</td>\n",
       "      <td>0.185726</td>\n",
       "      <td>0.187379</td>\n",
       "      <td>0.114081</td>\n",
       "      <td>...</td>\n",
       "      <td>0.081565</td>\n",
       "      <td>0.470883</td>\n",
       "      <td>36029</td>\n",
       "      <td>0.050236</td>\n",
       "      <td>0.321369</td>\n",
       "      <td>0.171806</td>\n",
       "      <td>338600</td>\n",
       "      <td>1953</td>\n",
       "      <td>0.752203</td>\n",
       "      <td>8597.610959</td>\n",
       "    </tr>\n",
       "  </tbody>\n",
       "</table>\n",
       "<p>5 rows × 21 columns</p>\n",
       "</div>"
      ],
      "text/plain": [
       "             % Black  % Ame Indi and AK Native   % Asian  \\\n",
       "GEOID                                                      \n",
       "6037127605  0.018509                  0.000000  0.056028   \n",
       "6037271701  0.126190                  0.003116  0.235070   \n",
       "6037276000  0.047294                  0.013307  0.133969   \n",
       "6037213202  0.013926                  0.005624  0.269416   \n",
       "6037239601  0.184073                  0.017636  0.002204   \n",
       "\n",
       "            % Nati Hawa and Paci Island  % Hispanic or Latino    % male  \\\n",
       "GEOID                                                                     \n",
       "6037127605                     0.000000              0.801151  0.531016   \n",
       "6037271701                     0.000000              0.156656  0.480872   \n",
       "6037276000                     0.000000              0.230714  0.506923   \n",
       "6037213202                     0.000000              0.656936  0.500536   \n",
       "6037239601                     0.016533              0.793331  0.510885   \n",
       "\n",
       "            % married  % age 18-29  % age 30-39  % age 40-49  ...  % age >=60  \\\n",
       "GEOID                                                         ...               \n",
       "6037127605   0.461859     0.200100     0.210105     0.113557  ...    0.071786   \n",
       "6037271701   0.385144     0.274364     0.180197     0.136057  ...    0.203393   \n",
       "6037276000   0.517106     0.118684     0.132170     0.136666  ...    0.270455   \n",
       "6037213202   0.363458     0.207552     0.186931     0.115694  ...    0.189877   \n",
       "6037239601   0.403396     0.185726     0.187379     0.114081  ...    0.081565   \n",
       "\n",
       "            % <highschool  median income  % unemployment  \\\n",
       "GEOID                                                      \n",
       "6037127605       0.302725          41701        0.102301   \n",
       "6037271701       0.021130          91567        0.068697   \n",
       "6037276000       0.033132         124904        0.019415   \n",
       "6037213202       0.351434          37656        0.092937   \n",
       "6037239601       0.470883          36029        0.050236   \n",
       "\n",
       "            % below poverty line  % food stamp/SNAP  median value units built  \\\n",
       "GEOID                                                                           \n",
       "6037127605              0.285248           0.185833                    469400   \n",
       "6037271701              0.091652           0.019502                   1045700   \n",
       "6037276000              0.051789           0.008768                    875400   \n",
       "6037213202              0.275576           0.117331                    577800   \n",
       "6037239601              0.321369           0.171806                    338600   \n",
       "\n",
       "            median year units built  % renter-occupied housing units  \\\n",
       "GEOID                                                                  \n",
       "6037127605                     1976                         0.927323   \n",
       "6037271701                     1968                         0.726616   \n",
       "6037276000                     1949                         0.216284   \n",
       "6037213202                     1943                         0.829755   \n",
       "6037239601                     1953                         0.752203   \n",
       "\n",
       "            population density  \n",
       "GEOID                           \n",
       "6037127605         6165.975475  \n",
       "6037271701         5796.226082  \n",
       "6037276000         2379.017180  \n",
       "6037213202        11054.794360  \n",
       "6037239601         8597.610959  \n",
       "\n",
       "[5 rows x 21 columns]"
      ]
     },
     "execution_count": 5,
     "metadata": {},
     "output_type": "execute_result"
    }
   ],
   "source": [
    "X_sociodemo_train.head()"
   ]
  },
  {
   "cell_type": "code",
   "execution_count": 6,
   "id": "5639f119",
   "metadata": {},
   "outputs": [
    {
     "data": {
      "text/plain": [
       "(663, 663)"
      ]
     },
     "execution_count": 6,
     "metadata": {},
     "output_type": "execute_result"
    }
   ],
   "source": [
    "len(X_sociodemo_train), len(y_train)"
   ]
  },
  {
   "cell_type": "code",
   "execution_count": 7,
   "id": "b561bd82",
   "metadata": {
    "scrolled": true
   },
   "outputs": [
    {
     "data": {
      "text/plain": [
       "663"
      ]
     },
     "execution_count": 7,
     "metadata": {},
     "output_type": "execute_result"
    }
   ],
   "source": [
    "len(y_train)"
   ]
  },
  {
   "cell_type": "code",
   "execution_count": 9,
   "id": "6b6fc0d2",
   "metadata": {},
   "outputs": [
    {
     "data": {
      "text/plain": [
       "21"
      ]
     },
     "execution_count": 9,
     "metadata": {},
     "output_type": "execute_result"
    }
   ],
   "source": [
    "# Store the number of sociodemographic features\n",
    "number_sociodemo = len(X_sociodemo_train.columns)\n",
    "number_sociodemo"
   ]
  },
  {
   "cell_type": "code",
   "execution_count": 10,
   "id": "a2c7e5ed",
   "metadata": {},
   "outputs": [],
   "source": [
    "# Create list of max_features to be searched\n",
    "max_features = [number_sociodemo, int(number_sociodemo/2), int(number_sociodemo/3), 'sqrt', 'log2']"
   ]
  },
  {
   "cell_type": "code",
   "execution_count": 9,
   "id": "b2dc7b3a",
   "metadata": {},
   "outputs": [
    {
     "data": {
      "text/plain": [
       "GridSearchCV(cv=10,\n",
       "             estimator=Pipeline(steps=[('scale', StandardScaler()),\n",
       "                                       ('model',\n",
       "                                        RandomForestRegressor(random_state=42))]),\n",
       "             n_jobs=-1,\n",
       "             param_grid=[{'model__max_features': [21, 10, 7, 'sqrt', 'log2'],\n",
       "                          'model__n_estimators': range(10, 1010, 10)},\n",
       "                         {'model__bootstrap': [False],\n",
       "                          'model__max_features': [21, 10, 7, 'sqrt', 'log2'],\n",
       "                          'model__n_estimators': range(10, 1010, 10)}],\n",
       "             return_train_score=True, scoring='neg_mean_squared_error')"
      ]
     },
     "execution_count": 9,
     "metadata": {},
     "output_type": "execute_result"
    }
   ],
   "source": [
    "# Grid search - sociodemographic features\n",
    "rf = RandomForestRegressor(random_state=42)\n",
    "\n",
    "RandomForestRegressor()\n",
    "\n",
    "pipe = Pipeline([\n",
    "    ('scale', StandardScaler()), # standardization data set\n",
    "    ('model', rf)\n",
    "])\n",
    "\n",
    "param_grid = [\n",
    "    {'model__n_estimators': range(10, 1010, 10),\n",
    "     'model__max_features':max_features},\n",
    "    {'model__bootstrap':[False],\n",
    "     'model__n_estimators': range(10, 1010, 10),\n",
    "     'model__max_features':max_features}\n",
    "]\n",
    "\n",
    "rf_sociodemo_search = GridSearchCV(pipe, param_grid, cv=10, scoring='neg_mean_squared_error', n_jobs=-1, return_train_score=True)\n",
    "rf_sociodemo_search.fit(X_sociodemo_train, y_train)"
   ]
  },
  {
   "cell_type": "code",
   "execution_count": 10,
   "id": "9f38440d",
   "metadata": {},
   "outputs": [
    {
     "name": "stdout",
     "output_type": "stream",
     "text": [
      "{'model__bootstrap': False, 'model__max_features': 10, 'model__n_estimators': 890}\n"
     ]
    }
   ],
   "source": [
    "# Optimal parameters for sociodemographic features\n",
    "print(rf_sociodemo_search.best_params_)"
   ]
  },
  {
   "cell_type": "code",
   "execution_count": 14,
   "id": "af883277",
   "metadata": {},
   "outputs": [],
   "source": [
    "rf_sociodemo_search.best_params_results = pd.DataFrame(rf_sociodemo_search.best_params_, index = [0])\n",
    "rf_sociodemo_search.best_params_results.to_csv(\"../Data/04 Data for RF and DNN Optimal Parameters Search/03 70%_LA_1000/rf_sociodemo_search.best_params_results.csv\", index=False)"
   ]
  },
  {
   "cell_type": "code",
   "execution_count": 15,
   "id": "e1f23402",
   "metadata": {},
   "outputs": [],
   "source": [
    "# Obtain all the searching results\n",
    "sociodemo_cvres = rf_sociodemo_search.cv_results_\n",
    "\n",
    "df_sociodemo_all_results = pd.DataFrame(sociodemo_cvres)\n",
    "df_sociodemo_all_results.to_csv(\"../Data/04 Data for RF and DNN Optimal Parameters Search/03 70%_LA_1000/rf_sociodemo_all_results.csv\", index=False)\n",
    "\n",
    "df_sociodemo_param_score = pd.DataFrame({'param':sociodemo_cvres['params'], 'rmts':np.sqrt(-sociodemo_cvres['mean_test_score'])}) #- suppose = negative, need to find out\n",
    "df_sociodemo_param_score.to_csv(\"../Data/04 Data for RF and DNN Optimal Parameters Search/03 70%_LA_1000/rf_sociodemo_param_score.csv\", index=False)"
   ]
  }
 ],
 "metadata": {
  "kernelspec": {
   "display_name": "Python 3 (ipykernel)",
   "language": "python",
   "name": "python3"
  },
  "language_info": {
   "codemirror_mode": {
    "name": "ipython",
    "version": 3
   },
   "file_extension": ".py",
   "mimetype": "text/x-python",
   "name": "python",
   "nbconvert_exporter": "python",
   "pygments_lexer": "ipython3",
   "version": "3.9.12"
  }
 },
 "nbformat": 4,
 "nbformat_minor": 5
}
