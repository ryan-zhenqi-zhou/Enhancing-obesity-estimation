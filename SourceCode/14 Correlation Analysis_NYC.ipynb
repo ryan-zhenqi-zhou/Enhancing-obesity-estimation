{
 "cells": [
  {
   "cell_type": "markdown",
   "id": "9ec9fd54",
   "metadata": {},
   "source": [
    "# NYC"
   ]
  },
  {
   "cell_type": "code",
   "execution_count": 15,
   "id": "090dd306",
   "metadata": {},
   "outputs": [
    {
     "name": "stderr",
     "output_type": "stream",
     "text": [
      "UsageError: Line magic function `%` not found.\n"
     ]
    }
   ],
   "source": [
    "import numpy as np\n",
    "import pandas as pd\n",
    "import matplotlib.pyplot as plt\n",
    "from scipy import stats\n",
    "import scipy\n",
    "% matplotlib inline"
   ]
  },
  {
   "cell_type": "code",
   "execution_count": 16,
   "id": "e47cc28a",
   "metadata": {},
   "outputs": [],
   "source": [
    "df = pd.read_csv(\"../Data/01 Processed Dataset/Complete_NYC.csv\")\n",
    "df1 = df[['fafood','fitness','park','obesity_cr']]"
   ]
  },
  {
   "cell_type": "code",
   "execution_count": 17,
   "id": "3f265fbd",
   "metadata": {},
   "outputs": [
    {
     "data": {
      "text/html": [
       "<div>\n",
       "<style scoped>\n",
       "    .dataframe tbody tr th:only-of-type {\n",
       "        vertical-align: middle;\n",
       "    }\n",
       "\n",
       "    .dataframe tbody tr th {\n",
       "        vertical-align: top;\n",
       "    }\n",
       "\n",
       "    .dataframe thead th {\n",
       "        text-align: right;\n",
       "    }\n",
       "</style>\n",
       "<table border=\"1\" class=\"dataframe\">\n",
       "  <thead>\n",
       "    <tr style=\"text-align: right;\">\n",
       "      <th></th>\n",
       "      <th>fafood</th>\n",
       "      <th>fitness</th>\n",
       "      <th>park</th>\n",
       "      <th>obesity_cr</th>\n",
       "    </tr>\n",
       "  </thead>\n",
       "  <tbody>\n",
       "    <tr>\n",
       "      <th>0</th>\n",
       "      <td>0.637197</td>\n",
       "      <td>0.257692</td>\n",
       "      <td>0.590230</td>\n",
       "      <td>26.6</td>\n",
       "    </tr>\n",
       "    <tr>\n",
       "      <th>1</th>\n",
       "      <td>0.721141</td>\n",
       "      <td>0.374830</td>\n",
       "      <td>0.778180</td>\n",
       "      <td>19.6</td>\n",
       "    </tr>\n",
       "    <tr>\n",
       "      <th>2</th>\n",
       "      <td>0.421530</td>\n",
       "      <td>0.228491</td>\n",
       "      <td>0.649373</td>\n",
       "      <td>21.5</td>\n",
       "    </tr>\n",
       "    <tr>\n",
       "      <th>3</th>\n",
       "      <td>0.096508</td>\n",
       "      <td>0.143136</td>\n",
       "      <td>0.324875</td>\n",
       "      <td>18.6</td>\n",
       "    </tr>\n",
       "    <tr>\n",
       "      <th>4</th>\n",
       "      <td>0.555596</td>\n",
       "      <td>0.268350</td>\n",
       "      <td>0.474746</td>\n",
       "      <td>30.6</td>\n",
       "    </tr>\n",
       "  </tbody>\n",
       "</table>\n",
       "</div>"
      ],
      "text/plain": [
       "     fafood   fitness      park  obesity_cr\n",
       "0  0.637197  0.257692  0.590230        26.6\n",
       "1  0.721141  0.374830  0.778180        19.6\n",
       "2  0.421530  0.228491  0.649373        21.5\n",
       "3  0.096508  0.143136  0.324875        18.6\n",
       "4  0.555596  0.268350  0.474746        30.6"
      ]
     },
     "execution_count": 17,
     "metadata": {},
     "output_type": "execute_result"
    }
   ],
   "source": [
    "df1.head()"
   ]
  },
  {
   "cell_type": "code",
   "execution_count": 18,
   "id": "46ebd4c1",
   "metadata": {},
   "outputs": [
    {
     "data": {
      "text/plain": [
       "1995"
      ]
     },
     "execution_count": 18,
     "metadata": {},
     "output_type": "execute_result"
    }
   ],
   "source": [
    "len(df1)"
   ]
  },
  {
   "cell_type": "code",
   "execution_count": 19,
   "id": "db7c03fc",
   "metadata": {},
   "outputs": [],
   "source": [
    "# Standardization function\n",
    "def standarize_data(data, stats):\n",
    "    return (data - stats['mean'])/ stats['std']\n",
    "\n",
    "df1_stats = df1.describe().transpose()\n",
    "df_std = standarize_data(df1,df1_stats)"
   ]
  },
  {
   "cell_type": "code",
   "execution_count": 20,
   "id": "af894874",
   "metadata": {},
   "outputs": [
    {
     "data": {
      "text/html": [
       "<div>\n",
       "<style scoped>\n",
       "    .dataframe tbody tr th:only-of-type {\n",
       "        vertical-align: middle;\n",
       "    }\n",
       "\n",
       "    .dataframe tbody tr th {\n",
       "        vertical-align: top;\n",
       "    }\n",
       "\n",
       "    .dataframe thead th {\n",
       "        text-align: right;\n",
       "    }\n",
       "</style>\n",
       "<table border=\"1\" class=\"dataframe\">\n",
       "  <thead>\n",
       "    <tr style=\"text-align: right;\">\n",
       "      <th></th>\n",
       "      <th>fafood</th>\n",
       "      <th>fitness</th>\n",
       "      <th>park</th>\n",
       "      <th>obesity_cr</th>\n",
       "    </tr>\n",
       "  </thead>\n",
       "  <tbody>\n",
       "    <tr>\n",
       "      <th>0</th>\n",
       "      <td>0.853667</td>\n",
       "      <td>-0.759150</td>\n",
       "      <td>-0.533700</td>\n",
       "      <td>0.156033</td>\n",
       "    </tr>\n",
       "    <tr>\n",
       "      <th>1</th>\n",
       "      <td>1.362547</td>\n",
       "      <td>-0.245224</td>\n",
       "      <td>0.194071</td>\n",
       "      <td>-1.033052</td>\n",
       "    </tr>\n",
       "    <tr>\n",
       "      <th>2</th>\n",
       "      <td>-0.453735</td>\n",
       "      <td>-0.887263</td>\n",
       "      <td>-0.304689</td>\n",
       "      <td>-0.710301</td>\n",
       "    </tr>\n",
       "    <tr>\n",
       "      <th>3</th>\n",
       "      <td>-2.424067</td>\n",
       "      <td>-1.261745</td>\n",
       "      <td>-1.561191</td>\n",
       "      <td>-1.202921</td>\n",
       "    </tr>\n",
       "    <tr>\n",
       "      <th>4</th>\n",
       "      <td>0.358989</td>\n",
       "      <td>-0.712388</td>\n",
       "      <td>-0.980871</td>\n",
       "      <td>0.835510</td>\n",
       "    </tr>\n",
       "  </tbody>\n",
       "</table>\n",
       "</div>"
      ],
      "text/plain": [
       "     fafood   fitness      park  obesity_cr\n",
       "0  0.853667 -0.759150 -0.533700    0.156033\n",
       "1  1.362547 -0.245224  0.194071   -1.033052\n",
       "2 -0.453735 -0.887263 -0.304689   -0.710301\n",
       "3 -2.424067 -1.261745 -1.561191   -1.202921\n",
       "4  0.358989 -0.712388 -0.980871    0.835510"
      ]
     },
     "execution_count": 20,
     "metadata": {},
     "output_type": "execute_result"
    }
   ],
   "source": [
    "df_std.head()"
   ]
  },
  {
   "cell_type": "markdown",
   "id": "14901c6a",
   "metadata": {},
   "source": [
    "## No standardization"
   ]
  },
  {
   "cell_type": "code",
   "execution_count": 21,
   "id": "b5503692",
   "metadata": {},
   "outputs": [
    {
     "data": {
      "text/plain": [
       "fafood        0.291424\n",
       "fitness      -0.628105\n",
       "park         -0.293507\n",
       "obesity_cr    1.000000\n",
       "Name: obesity_cr, dtype: float64"
      ]
     },
     "execution_count": 21,
     "metadata": {},
     "output_type": "execute_result"
    }
   ],
   "source": [
    "# Pearson\n",
    "\n",
    "df_pearson = df1.corr(method='pearson')\n",
    "df_pearson.iloc[-1]\n",
    "\n",
    "# >0.3 \n",
    "# fafood  "
   ]
  },
  {
   "cell_type": "code",
   "execution_count": 25,
   "id": "eb577c5e",
   "metadata": {},
   "outputs": [
    {
     "name": "stdout",
     "output_type": "stream",
     "text": [
      "fafood | 0.2914***\n",
      "fitness | -0.6281***\n",
      "park | -0.2935***\n"
     ]
    }
   ],
   "source": [
    "# Pearson and p-value\n",
    "\n",
    "col = list(df1)\n",
    "\n",
    "for vari in col:\n",
    "    if vari != 'obesity_cr':\n",
    "        coffi = scipy.stats.pearsonr(df1[vari], df1['obesity_cr'])[0].round(4)\n",
    "        p_value = scipy.stats.pearsonr(df1[vari], df1['obesity_cr'])[1]\n",
    "        if p_value < 0.001:\n",
    "            print(vari + \" | \" + str(coffi) + \"***\") \n",
    "        if p_value < 0.01 and p_value >= 0.001:\n",
    "            print(vari + \" | \" + str(coffi) + \"**\") \n",
    "        if p_value < 0.05 and p_value >= 0.01:\n",
    "            print(vari + \" | \" + str(coffi) + \"*\") \n",
    "        if p_value >= 0.05:\n",
    "            print(vari + \" | \" + str(coffi)) "
   ]
  },
  {
   "cell_type": "markdown",
   "id": "1aecf04b",
   "metadata": {},
   "source": [
    "## Standardization"
   ]
  },
  {
   "cell_type": "code",
   "execution_count": 24,
   "id": "da225fe3",
   "metadata": {},
   "outputs": [
    {
     "data": {
      "text/plain": [
       "fafood        0.291424\n",
       "fitness      -0.628105\n",
       "park         -0.293507\n",
       "obesity_cr    1.000000\n",
       "Name: obesity_cr, dtype: float64"
      ]
     },
     "execution_count": 24,
     "metadata": {},
     "output_type": "execute_result"
    }
   ],
   "source": [
    "# Pearson\n",
    "\n",
    "df_pearson = df_std.corr(method='pearson')\n",
    "df_pearson.iloc[-1]\n",
    "\n",
    "# >0.3 \n",
    "# fafood "
   ]
  },
  {
   "cell_type": "code",
   "execution_count": 26,
   "id": "493cb841",
   "metadata": {},
   "outputs": [
    {
     "name": "stdout",
     "output_type": "stream",
     "text": [
      "fafood | 0.2914***\n",
      "fitness | -0.6281***\n",
      "park | -0.2935***\n"
     ]
    }
   ],
   "source": [
    "# Pearson and p-value\n",
    "\n",
    "col = list(df_std)\n",
    "\n",
    "for vari in col:\n",
    "    if vari != 'obesity_cr':\n",
    "        coffi = scipy.stats.pearsonr(df_std[vari], df_std['obesity_cr'])[0].round(4)\n",
    "        p_value = scipy.stats.pearsonr(df_std[vari], df_std['obesity_cr'])[1]\n",
    "        if p_value < 0.001:\n",
    "            print(vari + \" | \" + str(coffi) + \"***\") \n",
    "        if p_value < 0.01 and p_value >= 0.001:\n",
    "            print(vari + \" | \" + str(coffi) + \"**\") \n",
    "        if p_value < 0.05 and p_value >= 0.01:\n",
    "            print(vari + \" | \" + str(coffi) + \"*\") \n",
    "        if p_value >= 0.05:\n",
    "            print(vari + \" | \" + str(coffi)) "
   ]
  },
  {
   "cell_type": "markdown",
   "id": "ff6ebe86",
   "metadata": {},
   "source": [
    "## No standardization"
   ]
  },
  {
   "cell_type": "code",
   "execution_count": 28,
   "id": "3f3a306b",
   "metadata": {},
   "outputs": [
    {
     "data": {
      "text/plain": [
       "fafood        0.298850\n",
       "fitness      -0.652823\n",
       "park         -0.328361\n",
       "obesity_cr    1.000000\n",
       "Name: obesity_cr, dtype: float64"
      ]
     },
     "execution_count": 28,
     "metadata": {},
     "output_type": "execute_result"
    }
   ],
   "source": [
    "# spearman\n",
    "\n",
    "df_spearman = df1.corr(method='spearman')\n",
    "df_spearman.iloc[-1]\n",
    "\n",
    "# >0.3 "
   ]
  },
  {
   "cell_type": "code",
   "execution_count": 29,
   "id": "bab68a8e",
   "metadata": {},
   "outputs": [
    {
     "name": "stdout",
     "output_type": "stream",
     "text": [
      "fafood | 0.2989***\n",
      "fitness | -0.6528***\n",
      "park | -0.3284***\n"
     ]
    }
   ],
   "source": [
    "# spearman and p-value\n",
    "\n",
    "col = list(df1)\n",
    "\n",
    "for vari in col:\n",
    "    if vari != 'obesity_cr':\n",
    "        coffi = scipy.stats.spearmanr(df1[vari], df1['obesity_cr'])[0].round(4)\n",
    "        p_value = scipy.stats.spearmanr(df1[vari], df1['obesity_cr'])[1]\n",
    "        if p_value < 0.001:\n",
    "            print(vari + \" | \" + str(coffi) + \"***\") \n",
    "        if p_value < 0.01 and p_value >= 0.001:\n",
    "            print(vari + \" | \" + str(coffi) + \"**\") \n",
    "        if p_value < 0.05 and p_value >= 0.01:\n",
    "            print(vari + \" | \" + str(coffi) + \"*\") \n",
    "        if p_value >= 0.05:\n",
    "            print(vari + \" | \" + str(coffi)) "
   ]
  },
  {
   "cell_type": "markdown",
   "id": "078d2185",
   "metadata": {},
   "source": [
    "## standardization"
   ]
  },
  {
   "cell_type": "code",
   "execution_count": 31,
   "id": "16066a10",
   "metadata": {},
   "outputs": [
    {
     "data": {
      "text/plain": [
       "fafood        0.298850\n",
       "fitness      -0.652823\n",
       "park         -0.328361\n",
       "obesity_cr    1.000000\n",
       "Name: obesity_cr, dtype: float64"
      ]
     },
     "execution_count": 31,
     "metadata": {},
     "output_type": "execute_result"
    }
   ],
   "source": [
    "# spearman\n",
    "\n",
    "df_spearman = df_std.corr(method='spearman')\n",
    "df_spearman.iloc[-1]\n",
    "\n",
    "# >0.3 "
   ]
  },
  {
   "cell_type": "code",
   "execution_count": 32,
   "id": "64850b27",
   "metadata": {},
   "outputs": [
    {
     "name": "stdout",
     "output_type": "stream",
     "text": [
      "fafood | 0.2989***\n",
      "fitness | -0.6528***\n",
      "park | -0.3284***\n"
     ]
    }
   ],
   "source": [
    "# spearman and p-value\n",
    "\n",
    "col = list(df_std)\n",
    "\n",
    "for vari in col:\n",
    "    if vari != 'obesity_cr':\n",
    "        coffi = scipy.stats.spearmanr(df_std[vari], df_std['obesity_cr'])[0].round(4)\n",
    "        p_value = scipy.stats.spearmanr(df_std[vari], df_std['obesity_cr'])[1]\n",
    "        if p_value < 0.001:\n",
    "            print(vari + \" | \" + str(coffi) + \"***\") \n",
    "        if p_value < 0.01 and p_value >= 0.001:\n",
    "            print(vari + \" | \" + str(coffi) + \"**\") \n",
    "        if p_value < 0.05 and p_value >= 0.01:\n",
    "            print(vari + \" | \" + str(coffi) + \"*\") \n",
    "        if p_value >= 0.05:\n",
    "            print(vari + \" | \" + str(coffi)) "
   ]
  }
 ],
 "metadata": {
  "kernelspec": {
   "display_name": "Python 3 (ipykernel)",
   "language": "python",
   "name": "python3"
  },
  "language_info": {
   "codemirror_mode": {
    "name": "ipython",
    "version": 3
   },
   "file_extension": ".py",
   "mimetype": "text/x-python",
   "name": "python",
   "nbconvert_exporter": "python",
   "pygments_lexer": "ipython3",
   "version": "3.9.12"
  }
 },
 "nbformat": 4,
 "nbformat_minor": 5
}
