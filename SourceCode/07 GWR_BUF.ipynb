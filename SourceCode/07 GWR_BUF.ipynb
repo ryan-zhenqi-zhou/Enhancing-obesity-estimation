{
 "cells": [
  {
   "cell_type": "code",
   "execution_count": 1,
   "id": "de947445",
   "metadata": {},
   "outputs": [],
   "source": [
    "# This script is for GWR\n",
    "# Take Dataset3 BUF for example"
   ]
  },
  {
   "cell_type": "code",
   "execution_count": 2,
   "id": "a0296453",
   "metadata": {},
   "outputs": [
    {
     "name": "stderr",
     "output_type": "stream",
     "text": [
      "C:\\Users\\ryanz\\anaconda3\\envs\\Obesity\\lib\\site-packages\\pysal\\explore\\segregation\\network\\network.py:15: UserWarning: You need pandana and urbanaccess to work with segregation's network module\n",
      "You can install them with  `pip install urbanaccess pandana` or `conda install -c udst pandana urbanaccess`\n",
      "  warn(\n",
      "C:\\Users\\ryanz\\anaconda3\\envs\\Obesity\\lib\\site-packages\\pysal\\model\\spvcm\\abstracts.py:10: UserWarning: The `dill` module is required to use the sqlite backend fully.\n",
      "  from .sqlite import head_to_sql, start_sql\n"
     ]
    }
   ],
   "source": [
    "import pandas as pd\n",
    "import numpy as np\n",
    "import geopandas as gpd\n",
    "from pysal.model import mgwr\n",
    "# from sklearn.preprocessing import StandardScaler\n",
    "from sklearn.model_selection import KFold\n",
    "from sklearn.metrics import r2_score\n",
    "from sklearn.metrics import mean_squared_error\n",
    "import matplotlib.pyplot as plt\n",
    "import seaborn as sns"
   ]
  },
  {
   "cell_type": "code",
   "execution_count": 3,
   "id": "9904020b",
   "metadata": {},
   "outputs": [],
   "source": [
    "X_sociodemo_test_passed = pd.read_csv(\"../Data/01 Processed Dataset/Socio_BUF.csv\", index_col = 'GEOID') # input\n",
    "y = X_sociodemo_test_passed.pop('obesity_cr')\n",
    "X_complete_test_passed = pd.read_csv(\"../Data/01 Processed Dataset/Complete_BUF.csv\", index_col = \"GEOID\") # input\n",
    "del X_complete_test_passed['obesity_cr']"
   ]
  },
  {
   "cell_type": "code",
   "execution_count": 4,
   "id": "e0445db7",
   "metadata": {},
   "outputs": [],
   "source": [
    "# Standardization function\n",
    "def standarize_data(data, stats):\n",
    "    return (data - stats['mean'])/ stats['std']"
   ]
  },
  {
   "cell_type": "code",
   "execution_count": 5,
   "id": "b9d9ea8c",
   "metadata": {},
   "outputs": [],
   "source": [
    "X_sociodemo_test_passed_stats = X_sociodemo_test_passed.describe().transpose()\n",
    "X_sociodemo_std_test_passed = standarize_data(X_sociodemo_test_passed, X_sociodemo_test_passed_stats)\n",
    "\n",
    "X_complete_test_passed_stats = X_complete_test_passed.describe().transpose()\n",
    "X_complete_std_test_passed = standarize_data(X_complete_test_passed, X_complete_test_passed_stats)"
   ]
  },
  {
   "cell_type": "code",
   "execution_count": 6,
   "id": "95fa0f0a",
   "metadata": {},
   "outputs": [
    {
     "data": {
      "text/plain": [
       "77"
      ]
     },
     "execution_count": 6,
     "metadata": {},
     "output_type": "execute_result"
    }
   ],
   "source": [
    "len(X_sociodemo_std_test_passed)"
   ]
  },
  {
   "cell_type": "code",
   "execution_count": 7,
   "id": "32ffa11f",
   "metadata": {},
   "outputs": [],
   "source": [
    "# Coordinates\n",
    "ct_shp = gpd.read_file(\"../Data/05 Coordinates info for GWR/BUF_CDC data_Tract_Ob_pro.shp\") # input\n",
    "ct_shp['GEOID'] = ct_shp['GEOID'].astype('int64')\n",
    "\n",
    "study_ct = X_sociodemo_std_test_passed.merge(ct_shp, on='GEOID', how='left')\n",
    "study_ct['Lonpro'] = pd.to_numeric(study_ct['Lonpro']) \n",
    "study_ct['Latpro'] = pd.to_numeric(study_ct['Latpro']) \n",
    "\n",
    "lng_lat_coords = np.column_stack([study_ct['Lonpro'], study_ct['Latpro']])"
   ]
  },
  {
   "cell_type": "code",
   "execution_count": 8,
   "id": "92ad32f2",
   "metadata": {},
   "outputs": [
    {
     "data": {
      "text/plain": [
       "<AxesSubplot:>"
      ]
     },
     "execution_count": 8,
     "metadata": {},
     "output_type": "execute_result"
    },
    {
     "data": {
      "image/png": "[encoded data removed]",
      "text/plain": [
       "<Figure size 432x288 with 1 Axes>"
      ]
     },
     "metadata": {
      "needs_background": "light"
     },
     "output_type": "display_data"
    }
   ],
   "source": [
    "ct_shp.plot()"
   ]
  },
  {
   "cell_type": "code",
   "execution_count": 9,
   "id": "bbd8edd2",
   "metadata": {},
   "outputs": [
    {
     "ename": "ValueError",
     "evalue": "kth(=86) out of bounds (77)",
     "output_type": "error",
     "traceback": [
      "\u001b[1;31m---------------------------------------------------------------------------\u001b[0m",
      "\u001b[1;31mValueError\u001b[0m                                Traceback (most recent call last)",
      "\u001b[1;32m~\\AppData\\Local\\Temp/ipykernel_23284/1550307442.py\u001b[0m in \u001b[0;36m<module>\u001b[1;34m\u001b[0m\n\u001b[0;32m      6\u001b[0m                                     spherical=False)\n\u001b[0;32m      7\u001b[0m \u001b[1;33m\u001b[0m\u001b[0m\n\u001b[1;32m----> 8\u001b[1;33m \u001b[0msocio_bw\u001b[0m \u001b[1;33m=\u001b[0m \u001b[0msocio_selector\u001b[0m\u001b[1;33m.\u001b[0m\u001b[0msearch\u001b[0m\u001b[1;33m(\u001b[0m\u001b[0mcriterion\u001b[0m\u001b[1;33m=\u001b[0m\u001b[1;34m'AICc'\u001b[0m\u001b[1;33m)\u001b[0m \u001b[1;31m# golden section search; AIC; number of nearest neighbor\u001b[0m\u001b[1;33m\u001b[0m\u001b[1;33m\u001b[0m\u001b[0m\n\u001b[0m\u001b[0;32m      9\u001b[0m \u001b[0mprint\u001b[0m\u001b[1;33m(\u001b[0m\u001b[0msocio_bw\u001b[0m\u001b[1;33m)\u001b[0m\u001b[1;33m\u001b[0m\u001b[1;33m\u001b[0m\u001b[0m\n",
      "\u001b[1;32m~\\anaconda3\\envs\\Obesity\\lib\\site-packages\\pysal\\model\\mgwr\\sel_bw.py\u001b[0m in \u001b[0;36msearch\u001b[1;34m(self, search_method, criterion, bw_min, bw_max, interval, tol, max_iter, init_multi, tol_multi, rss_score, max_iter_multi, multi_bw_min, multi_bw_max, bws_same_times, pool, verbose)\u001b[0m\n\u001b[0;32m    342\u001b[0m             \u001b[0mself\u001b[0m\u001b[1;33m.\u001b[0m\u001b[0mbw_init\u001b[0m \u001b[1;33m=\u001b[0m \u001b[0mself\u001b[0m\u001b[1;33m.\u001b[0m\u001b[0mbw\u001b[0m\u001b[1;33m[\u001b[0m\u001b[1;33m-\u001b[0m\u001b[1;36m1\u001b[0m\u001b[1;33m]\u001b[0m  \u001b[1;31m# scalar, optimal bw from initial gwr model\u001b[0m\u001b[1;33m\u001b[0m\u001b[1;33m\u001b[0m\u001b[0m\n\u001b[0;32m    343\u001b[0m         \u001b[1;32melse\u001b[0m\u001b[1;33m:\u001b[0m\u001b[1;33m\u001b[0m\u001b[1;33m\u001b[0m\u001b[0m\n\u001b[1;32m--> 344\u001b[1;33m             \u001b[0mself\u001b[0m\u001b[1;33m.\u001b[0m\u001b[0m_bw\u001b[0m\u001b[1;33m(\u001b[0m\u001b[1;33m)\u001b[0m\u001b[1;33m\u001b[0m\u001b[1;33m\u001b[0m\u001b[0m\n\u001b[0m\u001b[0;32m    345\u001b[0m \u001b[1;33m\u001b[0m\u001b[0m\n\u001b[0;32m    346\u001b[0m         \u001b[0mself\u001b[0m\u001b[1;33m.\u001b[0m\u001b[0mpool\u001b[0m \u001b[1;33m=\u001b[0m \u001b[1;32mNone\u001b[0m\u001b[1;33m\u001b[0m\u001b[1;33m\u001b[0m\u001b[0m\n",
      "\u001b[1;32m~\\anaconda3\\envs\\Obesity\\lib\\site-packages\\pysal\\model\\mgwr\\sel_bw.py\u001b[0m in \u001b[0;36m_bw\u001b[1;34m(self)\u001b[0m\n\u001b[0;32m    370\u001b[0m             )\n\u001b[0;32m    371\u001b[0m             \u001b[0mdelta\u001b[0m \u001b[1;33m=\u001b[0m \u001b[1;36m0.38197\u001b[0m  \u001b[1;31m# 1 - (np.sqrt(5.0)-1.0)/2.0\u001b[0m\u001b[1;33m\u001b[0m\u001b[1;33m\u001b[0m\u001b[0m\n\u001b[1;32m--> 372\u001b[1;33m             self.bw = golden_section(\n\u001b[0m\u001b[0;32m    373\u001b[0m                 \u001b[0ma\u001b[0m\u001b[1;33m,\u001b[0m\u001b[1;33m\u001b[0m\u001b[1;33m\u001b[0m\u001b[0m\n\u001b[0;32m    374\u001b[0m                 \u001b[0mc\u001b[0m\u001b[1;33m,\u001b[0m\u001b[1;33m\u001b[0m\u001b[1;33m\u001b[0m\u001b[0m\n",
      "\u001b[1;32m~\\anaconda3\\envs\\Obesity\\lib\\site-packages\\pysal\\model\\mgwr\\search.py\u001b[0m in \u001b[0;36mgolden_section\u001b[1;34m(a, c, delta, function, tol, max_iter, int_score, verbose)\u001b[0m\n\u001b[0;32m     60\u001b[0m             \u001b[0mscore_b\u001b[0m \u001b[1;33m=\u001b[0m \u001b[0mdict\u001b[0m\u001b[1;33m[\u001b[0m\u001b[0mb\u001b[0m\u001b[1;33m]\u001b[0m\u001b[1;33m\u001b[0m\u001b[1;33m\u001b[0m\u001b[0m\n\u001b[0;32m     61\u001b[0m         \u001b[1;32melse\u001b[0m\u001b[1;33m:\u001b[0m\u001b[1;33m\u001b[0m\u001b[1;33m\u001b[0m\u001b[0m\n\u001b[1;32m---> 62\u001b[1;33m             \u001b[0mscore_b\u001b[0m \u001b[1;33m=\u001b[0m \u001b[0mfunction\u001b[0m\u001b[1;33m(\u001b[0m\u001b[0mb\u001b[0m\u001b[1;33m)\u001b[0m\u001b[1;33m\u001b[0m\u001b[1;33m\u001b[0m\u001b[0m\n\u001b[0m\u001b[0;32m     63\u001b[0m             \u001b[0mdict\u001b[0m\u001b[1;33m[\u001b[0m\u001b[0mb\u001b[0m\u001b[1;33m]\u001b[0m \u001b[1;33m=\u001b[0m \u001b[0mscore_b\u001b[0m\u001b[1;33m\u001b[0m\u001b[1;33m\u001b[0m\u001b[0m\n\u001b[0;32m     64\u001b[0m             \u001b[1;32mif\u001b[0m \u001b[0mverbose\u001b[0m\u001b[1;33m:\u001b[0m\u001b[1;33m\u001b[0m\u001b[1;33m\u001b[0m\u001b[0m\n",
      "\u001b[1;32m~\\anaconda3\\envs\\Obesity\\lib\\site-packages\\pysal\\model\\mgwr\\sel_bw.py\u001b[0m in \u001b[0;36m<lambda>\u001b[1;34m(bw)\u001b[0m\n\u001b[0;32m    349\u001b[0m     \u001b[1;32mdef\u001b[0m \u001b[0m_bw\u001b[0m\u001b[1;33m(\u001b[0m\u001b[0mself\u001b[0m\u001b[1;33m)\u001b[0m\u001b[1;33m:\u001b[0m\u001b[1;33m\u001b[0m\u001b[1;33m\u001b[0m\u001b[0m\n\u001b[0;32m    350\u001b[0m         gwr_func = lambda bw: getDiag[self.criterion](\n\u001b[1;32m--> 351\u001b[1;33m             GWR(\n\u001b[0m\u001b[0;32m    352\u001b[0m                 \u001b[0mself\u001b[0m\u001b[1;33m.\u001b[0m\u001b[0mcoords\u001b[0m\u001b[1;33m,\u001b[0m\u001b[1;33m\u001b[0m\u001b[1;33m\u001b[0m\u001b[0m\n\u001b[0;32m    353\u001b[0m                 \u001b[0mself\u001b[0m\u001b[1;33m.\u001b[0m\u001b[0my\u001b[0m\u001b[1;33m,\u001b[0m\u001b[1;33m\u001b[0m\u001b[1;33m\u001b[0m\u001b[0m\n",
      "\u001b[1;32m~\\anaconda3\\envs\\Obesity\\lib\\site-packages\\pysal\\model\\mgwr\\gwr.py\u001b[0m in \u001b[0;36mfit\u001b[1;34m(self, ini_params, tol, max_iter, solve, lite, pool)\u001b[0m\n\u001b[0;32m    333\u001b[0m                 \u001b[0mrslt\u001b[0m \u001b[1;33m=\u001b[0m \u001b[0mmap\u001b[0m\u001b[1;33m(\u001b[0m\u001b[0mself\u001b[0m\u001b[1;33m.\u001b[0m\u001b[0m_local_fit\u001b[0m\u001b[1;33m,\u001b[0m \u001b[0mrange\u001b[0m\u001b[1;33m(\u001b[0m\u001b[0mm\u001b[0m\u001b[1;33m)\u001b[0m\u001b[1;33m)\u001b[0m  \u001b[1;31m#sequential\u001b[0m\u001b[1;33m\u001b[0m\u001b[1;33m\u001b[0m\u001b[0m\n\u001b[0;32m    334\u001b[0m \u001b[1;33m\u001b[0m\u001b[0m\n\u001b[1;32m--> 335\u001b[1;33m             \u001b[0mrslt_list\u001b[0m \u001b[1;33m=\u001b[0m \u001b[0mlist\u001b[0m\u001b[1;33m(\u001b[0m\u001b[0mzip\u001b[0m\u001b[1;33m(\u001b[0m\u001b[1;33m*\u001b[0m\u001b[0mrslt\u001b[0m\u001b[1;33m)\u001b[0m\u001b[1;33m)\u001b[0m\u001b[1;33m\u001b[0m\u001b[1;33m\u001b[0m\u001b[0m\n\u001b[0m\u001b[0;32m    336\u001b[0m             \u001b[0minflu\u001b[0m \u001b[1;33m=\u001b[0m \u001b[0mnp\u001b[0m\u001b[1;33m.\u001b[0m\u001b[0marray\u001b[0m\u001b[1;33m(\u001b[0m\u001b[0mrslt_list\u001b[0m\u001b[1;33m[\u001b[0m\u001b[1;36m0\u001b[0m\u001b[1;33m]\u001b[0m\u001b[1;33m)\u001b[0m\u001b[1;33m.\u001b[0m\u001b[0mreshape\u001b[0m\u001b[1;33m(\u001b[0m\u001b[1;33m-\u001b[0m\u001b[1;36m1\u001b[0m\u001b[1;33m,\u001b[0m \u001b[1;36m1\u001b[0m\u001b[1;33m)\u001b[0m\u001b[1;33m\u001b[0m\u001b[1;33m\u001b[0m\u001b[0m\n\u001b[0;32m    337\u001b[0m             \u001b[0mresid\u001b[0m \u001b[1;33m=\u001b[0m \u001b[0mnp\u001b[0m\u001b[1;33m.\u001b[0m\u001b[0marray\u001b[0m\u001b[1;33m(\u001b[0m\u001b[0mrslt_list\u001b[0m\u001b[1;33m[\u001b[0m\u001b[1;36m1\u001b[0m\u001b[1;33m]\u001b[0m\u001b[1;33m)\u001b[0m\u001b[1;33m.\u001b[0m\u001b[0mreshape\u001b[0m\u001b[1;33m(\u001b[0m\u001b[1;33m-\u001b[0m\u001b[1;36m1\u001b[0m\u001b[1;33m,\u001b[0m \u001b[1;36m1\u001b[0m\u001b[1;33m)\u001b[0m\u001b[1;33m\u001b[0m\u001b[1;33m\u001b[0m\u001b[0m\n",
      "\u001b[1;32m~\\anaconda3\\envs\\Obesity\\lib\\site-packages\\pysal\\model\\mgwr\\gwr.py\u001b[0m in \u001b[0;36m_local_fit\u001b[1;34m(self, i)\u001b[0m\n\u001b[0;32m    246\u001b[0m         \u001b[0mLocal\u001b[0m \u001b[0mfitting\u001b[0m \u001b[0mat\u001b[0m \u001b[0mlocation\u001b[0m \u001b[0mi\u001b[0m\u001b[1;33m.\u001b[0m\u001b[1;33m\u001b[0m\u001b[1;33m\u001b[0m\u001b[0m\n\u001b[0;32m    247\u001b[0m         \"\"\"\n\u001b[1;32m--> 248\u001b[1;33m         \u001b[0mwi\u001b[0m \u001b[1;33m=\u001b[0m \u001b[0mself\u001b[0m\u001b[1;33m.\u001b[0m\u001b[0m_build_wi\u001b[0m\u001b[1;33m(\u001b[0m\u001b[0mi\u001b[0m\u001b[1;33m,\u001b[0m \u001b[0mself\u001b[0m\u001b[1;33m.\u001b[0m\u001b[0mbw\u001b[0m\u001b[1;33m)\u001b[0m\u001b[1;33m.\u001b[0m\u001b[0mreshape\u001b[0m\u001b[1;33m(\u001b[0m\u001b[1;33m-\u001b[0m\u001b[1;36m1\u001b[0m\u001b[1;33m,\u001b[0m \u001b[1;36m1\u001b[0m\u001b[1;33m)\u001b[0m  \u001b[1;31m#local spatial weights\u001b[0m\u001b[1;33m\u001b[0m\u001b[1;33m\u001b[0m\u001b[0m\n\u001b[0m\u001b[0;32m    249\u001b[0m \u001b[1;33m\u001b[0m\u001b[0m\n\u001b[0;32m    250\u001b[0m         \u001b[1;32mif\u001b[0m \u001b[0misinstance\u001b[0m\u001b[1;33m(\u001b[0m\u001b[0mself\u001b[0m\u001b[1;33m.\u001b[0m\u001b[0mfamily\u001b[0m\u001b[1;33m,\u001b[0m \u001b[0mGaussian\u001b[0m\u001b[1;33m)\u001b[0m\u001b[1;33m:\u001b[0m\u001b[1;33m\u001b[0m\u001b[1;33m\u001b[0m\u001b[0m\n",
      "\u001b[1;32m~\\anaconda3\\envs\\Obesity\\lib\\site-packages\\pysal\\model\\mgwr\\gwr.py\u001b[0m in \u001b[0;36m_build_wi\u001b[1;34m(self, i, bw)\u001b[0m\n\u001b[0;32m    234\u001b[0m \u001b[1;33m\u001b[0m\u001b[0m\n\u001b[0;32m    235\u001b[0m         \u001b[1;32mtry\u001b[0m\u001b[1;33m:\u001b[0m\u001b[1;33m\u001b[0m\u001b[1;33m\u001b[0m\u001b[0m\n\u001b[1;32m--> 236\u001b[1;33m             wi = Kernel(i, self.coords, bw, fixed=self.fixed,\n\u001b[0m\u001b[0;32m    237\u001b[0m                         \u001b[0mfunction\u001b[0m\u001b[1;33m=\u001b[0m\u001b[0mself\u001b[0m\u001b[1;33m.\u001b[0m\u001b[0mkernel\u001b[0m\u001b[1;33m,\u001b[0m \u001b[0mpoints\u001b[0m\u001b[1;33m=\u001b[0m\u001b[0mself\u001b[0m\u001b[1;33m.\u001b[0m\u001b[0mpoints\u001b[0m\u001b[1;33m,\u001b[0m\u001b[1;33m\u001b[0m\u001b[1;33m\u001b[0m\u001b[0m\n\u001b[0;32m    238\u001b[0m                         spherical=self.spherical).kernel\n",
      "\u001b[1;32m~\\anaconda3\\envs\\Obesity\\lib\\site-packages\\pysal\\model\\mgwr\\kernels.py\u001b[0m in \u001b[0;36m__init__\u001b[1;34m(self, i, data, bw, fixed, function, eps, ids, points, spherical)\u001b[0m\n\u001b[0;32m     54\u001b[0m             \u001b[0mself\u001b[0m\u001b[1;33m.\u001b[0m\u001b[0mbandwidth\u001b[0m \u001b[1;33m=\u001b[0m \u001b[0mfloat\u001b[0m\u001b[1;33m(\u001b[0m\u001b[0mbw\u001b[0m\u001b[1;33m)\u001b[0m\u001b[1;33m\u001b[0m\u001b[1;33m\u001b[0m\u001b[0m\n\u001b[0;32m     55\u001b[0m         \u001b[1;32melse\u001b[0m\u001b[1;33m:\u001b[0m\u001b[1;33m\u001b[0m\u001b[1;33m\u001b[0m\u001b[0m\n\u001b[1;32m---> 56\u001b[1;33m             self.bandwidth = np.partition(\n\u001b[0m\u001b[0;32m     57\u001b[0m                 \u001b[0mself\u001b[0m\u001b[1;33m.\u001b[0m\u001b[0mdvec\u001b[0m\u001b[1;33m,\u001b[0m\u001b[1;33m\u001b[0m\u001b[1;33m\u001b[0m\u001b[0m\n\u001b[0;32m     58\u001b[0m                 int(bw) - 1)[int(bw) - 1] * eps  #partial sort in O(n) Time\n",
      "\u001b[1;32m<__array_function__ internals>\u001b[0m in \u001b[0;36mpartition\u001b[1;34m(*args, **kwargs)\u001b[0m\n",
      "\u001b[1;32m~\\anaconda3\\envs\\Obesity\\lib\\site-packages\\numpy\\core\\fromnumeric.py\u001b[0m in \u001b[0;36mpartition\u001b[1;34m(a, kth, axis, kind, order)\u001b[0m\n\u001b[0;32m    751\u001b[0m     \u001b[1;32melse\u001b[0m\u001b[1;33m:\u001b[0m\u001b[1;33m\u001b[0m\u001b[1;33m\u001b[0m\u001b[0m\n\u001b[0;32m    752\u001b[0m         \u001b[0ma\u001b[0m \u001b[1;33m=\u001b[0m \u001b[0masanyarray\u001b[0m\u001b[1;33m(\u001b[0m\u001b[0ma\u001b[0m\u001b[1;33m)\u001b[0m\u001b[1;33m.\u001b[0m\u001b[0mcopy\u001b[0m\u001b[1;33m(\u001b[0m\u001b[0morder\u001b[0m\u001b[1;33m=\u001b[0m\u001b[1;34m\"K\"\u001b[0m\u001b[1;33m)\u001b[0m\u001b[1;33m\u001b[0m\u001b[1;33m\u001b[0m\u001b[0m\n\u001b[1;32m--> 753\u001b[1;33m     \u001b[0ma\u001b[0m\u001b[1;33m.\u001b[0m\u001b[0mpartition\u001b[0m\u001b[1;33m(\u001b[0m\u001b[0mkth\u001b[0m\u001b[1;33m,\u001b[0m \u001b[0maxis\u001b[0m\u001b[1;33m=\u001b[0m\u001b[0maxis\u001b[0m\u001b[1;33m,\u001b[0m \u001b[0mkind\u001b[0m\u001b[1;33m=\u001b[0m\u001b[0mkind\u001b[0m\u001b[1;33m,\u001b[0m \u001b[0morder\u001b[0m\u001b[1;33m=\u001b[0m\u001b[0morder\u001b[0m\u001b[1;33m)\u001b[0m\u001b[1;33m\u001b[0m\u001b[1;33m\u001b[0m\u001b[0m\n\u001b[0m\u001b[0;32m    754\u001b[0m     \u001b[1;32mreturn\u001b[0m \u001b[0ma\u001b[0m\u001b[1;33m\u001b[0m\u001b[1;33m\u001b[0m\u001b[0m\n\u001b[0;32m    755\u001b[0m \u001b[1;33m\u001b[0m\u001b[0m\n",
      "\u001b[1;31mValueError\u001b[0m: kth(=86) out of bounds (77)"
     ]
    }
   ],
   "source": [
    "# Bandwidth\n",
    "# https://mgwr.readthedocs.io/en/latest/api.html\n",
    "socio_selector = mgwr.sel_bw.Sel_BW(lng_lat_coords, \n",
    "                                    np.asarray(y).reshape(-1,1), \n",
    "                                    np.asarray(X_sociodemo_std_test_passed), \n",
    "                                    spherical=False)\n",
    "\n",
    "socio_bw = socio_selector.search(criterion='AICc') # golden section search; AIC; number of nearest neighbor\n",
    "print(socio_bw)"
   ]
  },
  {
   "cell_type": "code",
   "execution_count": 11,
   "id": "39f777bb",
   "metadata": {},
   "outputs": [
    {
     "name": "stdout",
     "output_type": "stream",
     "text": [
      "===========================================================================\n",
      "Model type                                                         Gaussian\n",
      "Number of observations:                                                  77\n",
      "Number of covariates:                                                    22\n",
      "\n",
      "Global Regression Results\n",
      "---------------------------------------------------------------------------\n",
      "Residual sum of squares:                                             91.117\n",
      "Log-likelihood:                                                    -115.739\n",
      "AIC:                                                                275.479\n",
      "AICc:                                                               298.309\n",
      "BIC:                                                               -147.792\n",
      "R2:                                                                   0.976\n",
      "Adj. R2:                                                              0.966\n",
      "\n",
      "Variable                              Est.         SE  t(Est/SE)    p-value\n",
      "------------------------------- ---------- ---------- ---------- ----------\n",
      "X0                                  37.695      0.147    256.985      0.000\n",
      "X1                                   3.548      0.330     10.739      0.000\n",
      "X2                                   0.016      0.164      0.100      0.921\n",
      "X3                                  -0.049      0.220     -0.221      0.825\n",
      "X4                                  -0.082      0.169     -0.483      0.629\n",
      "X5                                  -0.083      0.319     -0.260      0.795\n",
      "X6                                   0.157      0.212      0.742      0.458\n",
      "X7                                  -0.453      0.324     -1.396      0.163\n",
      "X8                                  -1.767      0.426     -4.151      0.000\n",
      "X9                                   0.290      0.329      0.881      0.378\n",
      "X10                                  0.145      0.223      0.648      0.517\n",
      "X11                                 -0.116      0.286     -0.407      0.684\n",
      "X12                                 -0.486      0.328     -1.481      0.138\n",
      "X13                                  0.554      0.330      1.680      0.093\n",
      "X14                                 -0.835      0.403     -2.070      0.038\n",
      "X15                                  0.158      0.262      0.603      0.546\n",
      "X16                                  1.472      0.373      3.949      0.000\n",
      "X17                                  0.293      0.537      0.546      0.585\n",
      "X18                                 -0.786      0.320     -2.454      0.014\n",
      "X19                                  0.071      0.190      0.374      0.708\n",
      "X20                                  0.159      0.347      0.456      0.648\n",
      "X21                                 -0.751      0.201     -3.739      0.000\n",
      "\n",
      "Geographically Weighted Regression (GWR) Results\n",
      "---------------------------------------------------------------------------\n",
      "Spatial kernel:                                           Adaptive bisquare\n",
      "Bandwidth used:                                                      77.000\n",
      "\n",
      "Diagnostic information\n",
      "---------------------------------------------------------------------------\n",
      "Residual sum of squares:                                             67.112\n",
      "Effective number of parameters (trace(S)):                           31.371\n",
      "Degree of freedom (n - trace(S)):                                    45.629\n",
      "Sigma estimate:                                                       1.213\n",
      "Log-likelihood:                                                    -103.967\n",
      "AIC:                                                                272.675\n",
      "AICc:                                                               322.193\n",
      "BIC:                                                                348.545\n",
      "R2:                                                                   0.982\n",
      "Adjusted R2:                                                          0.969\n",
      "Adj. alpha (95%):                                                     0.035\n",
      "Adj. critical t value (95%):                                          2.146\n",
      "\n",
      "Summary Statistics For GWR Parameter Estimates\n",
      "---------------------------------------------------------------------------\n",
      "Variable                   Mean        STD        Min     Median        Max\n",
      "-------------------- ---------- ---------- ---------- ---------- ----------\n",
      "X0                       37.702      0.076     37.630     37.660     37.868\n",
      "X1                        3.583      0.061      3.476      3.599      3.653\n",
      "X2                        0.035      0.043     -0.028      0.030      0.117\n",
      "X3                        0.025      0.144     -0.196     -0.010      0.243\n",
      "X4                       -0.117      0.077     -0.266     -0.122      0.005\n",
      "X5                       -0.142      0.112     -0.322     -0.172      0.045\n",
      "X6                        0.150      0.042      0.047      0.166      0.199\n",
      "X7                       -0.453      0.088     -0.626     -0.411     -0.359\n",
      "X8                       -1.678      0.050     -1.858     -1.673     -1.602\n",
      "X9                        0.258      0.118     -0.114      0.283      0.462\n",
      "X10                       0.133      0.097     -0.139      0.140      0.329\n",
      "X11                      -0.140      0.039     -0.222     -0.141     -0.050\n",
      "X12                      -0.467      0.095     -0.776     -0.434     -0.375\n",
      "X13                       0.649      0.117      0.439      0.688      0.806\n",
      "X14                      -0.824      0.049     -0.944     -0.817     -0.739\n",
      "X15                       0.120      0.089     -0.003      0.096      0.275\n",
      "X16                       1.492      0.228      1.146      1.534      1.819\n",
      "X17                       0.236      0.258     -0.092      0.159      0.701\n",
      "X18                      -0.823      0.058     -0.937     -0.832     -0.659\n",
      "X19                       0.054      0.031     -0.021      0.059      0.107\n",
      "X20                       0.207      0.131     -0.074      0.258      0.396\n",
      "X21                      -0.799      0.052     -0.921     -0.798     -0.712\n",
      "===========================================================================\n",
      "\n"
     ]
    }
   ],
   "source": [
    "# Error, so use 77.\n",
    "# sociodemographic predictors\n",
    "#fit GWR model\n",
    "socio_gwr_model = mgwr.gwr.GWR(lng_lat_coords, \n",
    "                               np.asarray(y).reshape(-1,1), \n",
    "                               np.asarray(X_sociodemo_std_test_passed), \n",
    "                               77)\n",
    "\n",
    "socio_gwr_results = socio_gwr_model.fit()\n",
    "socio_gwr_results.summary()"
   ]
  },
  {
   "cell_type": "code",
   "execution_count": 12,
   "id": "b38f3113",
   "metadata": {},
   "outputs": [
    {
     "name": "stdout",
     "output_type": "stream",
     "text": [
      "RMSE of GWR with sociodemographic predictors:  0.9335878627942251\n"
     ]
    }
   ],
   "source": [
    "#obtain prediction\n",
    "y_gwr_socio_predict3 = socio_gwr_results.predy\n",
    "\n",
    "#calculate RMSE\n",
    "gwr_socio_rmse_3 = mean_squared_error(y , y_gwr_socio_predict3, squared=False)\n",
    "print(\"RMSE of GWR with sociodemographic predictors: \", gwr_socio_rmse_3)"
   ]
  },
  {
   "cell_type": "code",
   "execution_count": 13,
   "id": "e5b6d240",
   "metadata": {},
   "outputs": [
    {
     "ename": "ValueError",
     "evalue": "kth(=94) out of bounds (77)",
     "output_type": "error",
     "traceback": [
      "\u001b[1;31m---------------------------------------------------------------------------\u001b[0m",
      "\u001b[1;31mValueError\u001b[0m                                Traceback (most recent call last)",
      "\u001b[1;32m~\\AppData\\Local\\Temp/ipykernel_23284/1393473753.py\u001b[0m in \u001b[0;36m<module>\u001b[1;34m\u001b[0m\n\u001b[0;32m      4\u001b[0m                                        spherical=False)\n\u001b[0;32m      5\u001b[0m \u001b[1;33m\u001b[0m\u001b[0m\n\u001b[1;32m----> 6\u001b[1;33m \u001b[0mcomplete_bw\u001b[0m \u001b[1;33m=\u001b[0m \u001b[0mcomplete_selector\u001b[0m\u001b[1;33m.\u001b[0m\u001b[0msearch\u001b[0m\u001b[1;33m(\u001b[0m\u001b[0mcriterion\u001b[0m\u001b[1;33m=\u001b[0m\u001b[1;34m'AICc'\u001b[0m\u001b[1;33m)\u001b[0m\u001b[1;33m\u001b[0m\u001b[1;33m\u001b[0m\u001b[0m\n\u001b[0m\u001b[0;32m      7\u001b[0m \u001b[0mprint\u001b[0m\u001b[1;33m(\u001b[0m\u001b[0mcomplete_bw\u001b[0m\u001b[1;33m)\u001b[0m\u001b[1;33m\u001b[0m\u001b[1;33m\u001b[0m\u001b[0m\n",
      "\u001b[1;32m~\\anaconda3\\envs\\Obesity\\lib\\site-packages\\pysal\\model\\mgwr\\sel_bw.py\u001b[0m in \u001b[0;36msearch\u001b[1;34m(self, search_method, criterion, bw_min, bw_max, interval, tol, max_iter, init_multi, tol_multi, rss_score, max_iter_multi, multi_bw_min, multi_bw_max, bws_same_times, pool, verbose)\u001b[0m\n\u001b[0;32m    342\u001b[0m             \u001b[0mself\u001b[0m\u001b[1;33m.\u001b[0m\u001b[0mbw_init\u001b[0m \u001b[1;33m=\u001b[0m \u001b[0mself\u001b[0m\u001b[1;33m.\u001b[0m\u001b[0mbw\u001b[0m\u001b[1;33m[\u001b[0m\u001b[1;33m-\u001b[0m\u001b[1;36m1\u001b[0m\u001b[1;33m]\u001b[0m  \u001b[1;31m# scalar, optimal bw from initial gwr model\u001b[0m\u001b[1;33m\u001b[0m\u001b[1;33m\u001b[0m\u001b[0m\n\u001b[0;32m    343\u001b[0m         \u001b[1;32melse\u001b[0m\u001b[1;33m:\u001b[0m\u001b[1;33m\u001b[0m\u001b[1;33m\u001b[0m\u001b[0m\n\u001b[1;32m--> 344\u001b[1;33m             \u001b[0mself\u001b[0m\u001b[1;33m.\u001b[0m\u001b[0m_bw\u001b[0m\u001b[1;33m(\u001b[0m\u001b[1;33m)\u001b[0m\u001b[1;33m\u001b[0m\u001b[1;33m\u001b[0m\u001b[0m\n\u001b[0m\u001b[0;32m    345\u001b[0m \u001b[1;33m\u001b[0m\u001b[0m\n\u001b[0;32m    346\u001b[0m         \u001b[0mself\u001b[0m\u001b[1;33m.\u001b[0m\u001b[0mpool\u001b[0m \u001b[1;33m=\u001b[0m \u001b[1;32mNone\u001b[0m\u001b[1;33m\u001b[0m\u001b[1;33m\u001b[0m\u001b[0m\n",
      "\u001b[1;32m~\\anaconda3\\envs\\Obesity\\lib\\site-packages\\pysal\\model\\mgwr\\sel_bw.py\u001b[0m in \u001b[0;36m_bw\u001b[1;34m(self)\u001b[0m\n\u001b[0;32m    370\u001b[0m             )\n\u001b[0;32m    371\u001b[0m             \u001b[0mdelta\u001b[0m \u001b[1;33m=\u001b[0m \u001b[1;36m0.38197\u001b[0m  \u001b[1;31m# 1 - (np.sqrt(5.0)-1.0)/2.0\u001b[0m\u001b[1;33m\u001b[0m\u001b[1;33m\u001b[0m\u001b[0m\n\u001b[1;32m--> 372\u001b[1;33m             self.bw = golden_section(\n\u001b[0m\u001b[0;32m    373\u001b[0m                 \u001b[0ma\u001b[0m\u001b[1;33m,\u001b[0m\u001b[1;33m\u001b[0m\u001b[1;33m\u001b[0m\u001b[0m\n\u001b[0;32m    374\u001b[0m                 \u001b[0mc\u001b[0m\u001b[1;33m,\u001b[0m\u001b[1;33m\u001b[0m\u001b[1;33m\u001b[0m\u001b[0m\n",
      "\u001b[1;32m~\\anaconda3\\envs\\Obesity\\lib\\site-packages\\pysal\\model\\mgwr\\search.py\u001b[0m in \u001b[0;36mgolden_section\u001b[1;34m(a, c, delta, function, tol, max_iter, int_score, verbose)\u001b[0m\n\u001b[0;32m     60\u001b[0m             \u001b[0mscore_b\u001b[0m \u001b[1;33m=\u001b[0m \u001b[0mdict\u001b[0m\u001b[1;33m[\u001b[0m\u001b[0mb\u001b[0m\u001b[1;33m]\u001b[0m\u001b[1;33m\u001b[0m\u001b[1;33m\u001b[0m\u001b[0m\n\u001b[0;32m     61\u001b[0m         \u001b[1;32melse\u001b[0m\u001b[1;33m:\u001b[0m\u001b[1;33m\u001b[0m\u001b[1;33m\u001b[0m\u001b[0m\n\u001b[1;32m---> 62\u001b[1;33m             \u001b[0mscore_b\u001b[0m \u001b[1;33m=\u001b[0m \u001b[0mfunction\u001b[0m\u001b[1;33m(\u001b[0m\u001b[0mb\u001b[0m\u001b[1;33m)\u001b[0m\u001b[1;33m\u001b[0m\u001b[1;33m\u001b[0m\u001b[0m\n\u001b[0m\u001b[0;32m     63\u001b[0m             \u001b[0mdict\u001b[0m\u001b[1;33m[\u001b[0m\u001b[0mb\u001b[0m\u001b[1;33m]\u001b[0m \u001b[1;33m=\u001b[0m \u001b[0mscore_b\u001b[0m\u001b[1;33m\u001b[0m\u001b[1;33m\u001b[0m\u001b[0m\n\u001b[0;32m     64\u001b[0m             \u001b[1;32mif\u001b[0m \u001b[0mverbose\u001b[0m\u001b[1;33m:\u001b[0m\u001b[1;33m\u001b[0m\u001b[1;33m\u001b[0m\u001b[0m\n",
      "\u001b[1;32m~\\anaconda3\\envs\\Obesity\\lib\\site-packages\\pysal\\model\\mgwr\\sel_bw.py\u001b[0m in \u001b[0;36m<lambda>\u001b[1;34m(bw)\u001b[0m\n\u001b[0;32m    349\u001b[0m     \u001b[1;32mdef\u001b[0m \u001b[0m_bw\u001b[0m\u001b[1;33m(\u001b[0m\u001b[0mself\u001b[0m\u001b[1;33m)\u001b[0m\u001b[1;33m:\u001b[0m\u001b[1;33m\u001b[0m\u001b[1;33m\u001b[0m\u001b[0m\n\u001b[0;32m    350\u001b[0m         gwr_func = lambda bw: getDiag[self.criterion](\n\u001b[1;32m--> 351\u001b[1;33m             GWR(\n\u001b[0m\u001b[0;32m    352\u001b[0m                 \u001b[0mself\u001b[0m\u001b[1;33m.\u001b[0m\u001b[0mcoords\u001b[0m\u001b[1;33m,\u001b[0m\u001b[1;33m\u001b[0m\u001b[1;33m\u001b[0m\u001b[0m\n\u001b[0;32m    353\u001b[0m                 \u001b[0mself\u001b[0m\u001b[1;33m.\u001b[0m\u001b[0my\u001b[0m\u001b[1;33m,\u001b[0m\u001b[1;33m\u001b[0m\u001b[1;33m\u001b[0m\u001b[0m\n",
      "\u001b[1;32m~\\anaconda3\\envs\\Obesity\\lib\\site-packages\\pysal\\model\\mgwr\\gwr.py\u001b[0m in \u001b[0;36mfit\u001b[1;34m(self, ini_params, tol, max_iter, solve, lite, pool)\u001b[0m\n\u001b[0;32m    333\u001b[0m                 \u001b[0mrslt\u001b[0m \u001b[1;33m=\u001b[0m \u001b[0mmap\u001b[0m\u001b[1;33m(\u001b[0m\u001b[0mself\u001b[0m\u001b[1;33m.\u001b[0m\u001b[0m_local_fit\u001b[0m\u001b[1;33m,\u001b[0m \u001b[0mrange\u001b[0m\u001b[1;33m(\u001b[0m\u001b[0mm\u001b[0m\u001b[1;33m)\u001b[0m\u001b[1;33m)\u001b[0m  \u001b[1;31m#sequential\u001b[0m\u001b[1;33m\u001b[0m\u001b[1;33m\u001b[0m\u001b[0m\n\u001b[0;32m    334\u001b[0m \u001b[1;33m\u001b[0m\u001b[0m\n\u001b[1;32m--> 335\u001b[1;33m             \u001b[0mrslt_list\u001b[0m \u001b[1;33m=\u001b[0m \u001b[0mlist\u001b[0m\u001b[1;33m(\u001b[0m\u001b[0mzip\u001b[0m\u001b[1;33m(\u001b[0m\u001b[1;33m*\u001b[0m\u001b[0mrslt\u001b[0m\u001b[1;33m)\u001b[0m\u001b[1;33m)\u001b[0m\u001b[1;33m\u001b[0m\u001b[1;33m\u001b[0m\u001b[0m\n\u001b[0m\u001b[0;32m    336\u001b[0m             \u001b[0minflu\u001b[0m \u001b[1;33m=\u001b[0m \u001b[0mnp\u001b[0m\u001b[1;33m.\u001b[0m\u001b[0marray\u001b[0m\u001b[1;33m(\u001b[0m\u001b[0mrslt_list\u001b[0m\u001b[1;33m[\u001b[0m\u001b[1;36m0\u001b[0m\u001b[1;33m]\u001b[0m\u001b[1;33m)\u001b[0m\u001b[1;33m.\u001b[0m\u001b[0mreshape\u001b[0m\u001b[1;33m(\u001b[0m\u001b[1;33m-\u001b[0m\u001b[1;36m1\u001b[0m\u001b[1;33m,\u001b[0m \u001b[1;36m1\u001b[0m\u001b[1;33m)\u001b[0m\u001b[1;33m\u001b[0m\u001b[1;33m\u001b[0m\u001b[0m\n\u001b[0;32m    337\u001b[0m             \u001b[0mresid\u001b[0m \u001b[1;33m=\u001b[0m \u001b[0mnp\u001b[0m\u001b[1;33m.\u001b[0m\u001b[0marray\u001b[0m\u001b[1;33m(\u001b[0m\u001b[0mrslt_list\u001b[0m\u001b[1;33m[\u001b[0m\u001b[1;36m1\u001b[0m\u001b[1;33m]\u001b[0m\u001b[1;33m)\u001b[0m\u001b[1;33m.\u001b[0m\u001b[0mreshape\u001b[0m\u001b[1;33m(\u001b[0m\u001b[1;33m-\u001b[0m\u001b[1;36m1\u001b[0m\u001b[1;33m,\u001b[0m \u001b[1;36m1\u001b[0m\u001b[1;33m)\u001b[0m\u001b[1;33m\u001b[0m\u001b[1;33m\u001b[0m\u001b[0m\n",
      "\u001b[1;32m~\\anaconda3\\envs\\Obesity\\lib\\site-packages\\pysal\\model\\mgwr\\gwr.py\u001b[0m in \u001b[0;36m_local_fit\u001b[1;34m(self, i)\u001b[0m\n\u001b[0;32m    246\u001b[0m         \u001b[0mLocal\u001b[0m \u001b[0mfitting\u001b[0m \u001b[0mat\u001b[0m \u001b[0mlocation\u001b[0m \u001b[0mi\u001b[0m\u001b[1;33m.\u001b[0m\u001b[1;33m\u001b[0m\u001b[1;33m\u001b[0m\u001b[0m\n\u001b[0;32m    247\u001b[0m         \"\"\"\n\u001b[1;32m--> 248\u001b[1;33m         \u001b[0mwi\u001b[0m \u001b[1;33m=\u001b[0m \u001b[0mself\u001b[0m\u001b[1;33m.\u001b[0m\u001b[0m_build_wi\u001b[0m\u001b[1;33m(\u001b[0m\u001b[0mi\u001b[0m\u001b[1;33m,\u001b[0m \u001b[0mself\u001b[0m\u001b[1;33m.\u001b[0m\u001b[0mbw\u001b[0m\u001b[1;33m)\u001b[0m\u001b[1;33m.\u001b[0m\u001b[0mreshape\u001b[0m\u001b[1;33m(\u001b[0m\u001b[1;33m-\u001b[0m\u001b[1;36m1\u001b[0m\u001b[1;33m,\u001b[0m \u001b[1;36m1\u001b[0m\u001b[1;33m)\u001b[0m  \u001b[1;31m#local spatial weights\u001b[0m\u001b[1;33m\u001b[0m\u001b[1;33m\u001b[0m\u001b[0m\n\u001b[0m\u001b[0;32m    249\u001b[0m \u001b[1;33m\u001b[0m\u001b[0m\n\u001b[0;32m    250\u001b[0m         \u001b[1;32mif\u001b[0m \u001b[0misinstance\u001b[0m\u001b[1;33m(\u001b[0m\u001b[0mself\u001b[0m\u001b[1;33m.\u001b[0m\u001b[0mfamily\u001b[0m\u001b[1;33m,\u001b[0m \u001b[0mGaussian\u001b[0m\u001b[1;33m)\u001b[0m\u001b[1;33m:\u001b[0m\u001b[1;33m\u001b[0m\u001b[1;33m\u001b[0m\u001b[0m\n",
      "\u001b[1;32m~\\anaconda3\\envs\\Obesity\\lib\\site-packages\\pysal\\model\\mgwr\\gwr.py\u001b[0m in \u001b[0;36m_build_wi\u001b[1;34m(self, i, bw)\u001b[0m\n\u001b[0;32m    234\u001b[0m \u001b[1;33m\u001b[0m\u001b[0m\n\u001b[0;32m    235\u001b[0m         \u001b[1;32mtry\u001b[0m\u001b[1;33m:\u001b[0m\u001b[1;33m\u001b[0m\u001b[1;33m\u001b[0m\u001b[0m\n\u001b[1;32m--> 236\u001b[1;33m             wi = Kernel(i, self.coords, bw, fixed=self.fixed,\n\u001b[0m\u001b[0;32m    237\u001b[0m                         \u001b[0mfunction\u001b[0m\u001b[1;33m=\u001b[0m\u001b[0mself\u001b[0m\u001b[1;33m.\u001b[0m\u001b[0mkernel\u001b[0m\u001b[1;33m,\u001b[0m \u001b[0mpoints\u001b[0m\u001b[1;33m=\u001b[0m\u001b[0mself\u001b[0m\u001b[1;33m.\u001b[0m\u001b[0mpoints\u001b[0m\u001b[1;33m,\u001b[0m\u001b[1;33m\u001b[0m\u001b[1;33m\u001b[0m\u001b[0m\n\u001b[0;32m    238\u001b[0m                         spherical=self.spherical).kernel\n",
      "\u001b[1;32m~\\anaconda3\\envs\\Obesity\\lib\\site-packages\\pysal\\model\\mgwr\\kernels.py\u001b[0m in \u001b[0;36m__init__\u001b[1;34m(self, i, data, bw, fixed, function, eps, ids, points, spherical)\u001b[0m\n\u001b[0;32m     54\u001b[0m             \u001b[0mself\u001b[0m\u001b[1;33m.\u001b[0m\u001b[0mbandwidth\u001b[0m \u001b[1;33m=\u001b[0m \u001b[0mfloat\u001b[0m\u001b[1;33m(\u001b[0m\u001b[0mbw\u001b[0m\u001b[1;33m)\u001b[0m\u001b[1;33m\u001b[0m\u001b[1;33m\u001b[0m\u001b[0m\n\u001b[0;32m     55\u001b[0m         \u001b[1;32melse\u001b[0m\u001b[1;33m:\u001b[0m\u001b[1;33m\u001b[0m\u001b[1;33m\u001b[0m\u001b[0m\n\u001b[1;32m---> 56\u001b[1;33m             self.bandwidth = np.partition(\n\u001b[0m\u001b[0;32m     57\u001b[0m                 \u001b[0mself\u001b[0m\u001b[1;33m.\u001b[0m\u001b[0mdvec\u001b[0m\u001b[1;33m,\u001b[0m\u001b[1;33m\u001b[0m\u001b[1;33m\u001b[0m\u001b[0m\n\u001b[0;32m     58\u001b[0m                 int(bw) - 1)[int(bw) - 1] * eps  #partial sort in O(n) Time\n",
      "\u001b[1;32m<__array_function__ internals>\u001b[0m in \u001b[0;36mpartition\u001b[1;34m(*args, **kwargs)\u001b[0m\n",
      "\u001b[1;32m~\\anaconda3\\envs\\Obesity\\lib\\site-packages\\numpy\\core\\fromnumeric.py\u001b[0m in \u001b[0;36mpartition\u001b[1;34m(a, kth, axis, kind, order)\u001b[0m\n\u001b[0;32m    751\u001b[0m     \u001b[1;32melse\u001b[0m\u001b[1;33m:\u001b[0m\u001b[1;33m\u001b[0m\u001b[1;33m\u001b[0m\u001b[0m\n\u001b[0;32m    752\u001b[0m         \u001b[0ma\u001b[0m \u001b[1;33m=\u001b[0m \u001b[0masanyarray\u001b[0m\u001b[1;33m(\u001b[0m\u001b[0ma\u001b[0m\u001b[1;33m)\u001b[0m\u001b[1;33m.\u001b[0m\u001b[0mcopy\u001b[0m\u001b[1;33m(\u001b[0m\u001b[0morder\u001b[0m\u001b[1;33m=\u001b[0m\u001b[1;34m\"K\"\u001b[0m\u001b[1;33m)\u001b[0m\u001b[1;33m\u001b[0m\u001b[1;33m\u001b[0m\u001b[0m\n\u001b[1;32m--> 753\u001b[1;33m     \u001b[0ma\u001b[0m\u001b[1;33m.\u001b[0m\u001b[0mpartition\u001b[0m\u001b[1;33m(\u001b[0m\u001b[0mkth\u001b[0m\u001b[1;33m,\u001b[0m \u001b[0maxis\u001b[0m\u001b[1;33m=\u001b[0m\u001b[0maxis\u001b[0m\u001b[1;33m,\u001b[0m \u001b[0mkind\u001b[0m\u001b[1;33m=\u001b[0m\u001b[0mkind\u001b[0m\u001b[1;33m,\u001b[0m \u001b[0morder\u001b[0m\u001b[1;33m=\u001b[0m\u001b[0morder\u001b[0m\u001b[1;33m)\u001b[0m\u001b[1;33m\u001b[0m\u001b[1;33m\u001b[0m\u001b[0m\n\u001b[0m\u001b[0;32m    754\u001b[0m     \u001b[1;32mreturn\u001b[0m \u001b[0ma\u001b[0m\u001b[1;33m\u001b[0m\u001b[1;33m\u001b[0m\u001b[0m\n\u001b[0;32m    755\u001b[0m \u001b[1;33m\u001b[0m\u001b[0m\n",
      "\u001b[1;31mValueError\u001b[0m: kth(=94) out of bounds (77)"
     ]
    }
   ],
   "source": [
    "complete_selector = mgwr.sel_bw.Sel_BW(lng_lat_coords, \n",
    "                                       np.asarray(y).reshape(-1,1),\n",
    "                                       np.asarray(X_complete_std_test_passed),\n",
    "                                       spherical=False)\n",
    "\n",
    "complete_bw = complete_selector.search(criterion='AICc')\n",
    "print(complete_bw)"
   ]
  },
  {
   "cell_type": "code",
   "execution_count": 14,
   "id": "f864ad64",
   "metadata": {},
   "outputs": [
    {
     "name": "stdout",
     "output_type": "stream",
     "text": [
      "===========================================================================\n",
      "Model type                                                         Gaussian\n",
      "Number of observations:                                                  77\n",
      "Number of covariates:                                                    25\n",
      "\n",
      "Global Regression Results\n",
      "---------------------------------------------------------------------------\n",
      "Residual sum of squares:                                             89.581\n",
      "Log-likelihood:                                                    -115.085\n",
      "AIC:                                                                280.170\n",
      "AICc:                                                               310.250\n",
      "BIC:                                                               -136.297\n",
      "R2:                                                                   0.976\n",
      "Adj. R2:                                                              0.965\n",
      "\n",
      "Variable                              Est.         SE  t(Est/SE)    p-value\n",
      "------------------------------- ---------- ---------- ---------- ----------\n",
      "X0                                  37.695      0.150    252.011      0.000\n",
      "X1                                   3.531      0.346     10.192      0.000\n",
      "X2                                   0.015      0.168      0.092      0.927\n",
      "X3                                  -0.084      0.229     -0.368      0.713\n",
      "X4                                  -0.076      0.176     -0.434      0.664\n",
      "X5                                  -0.082      0.326     -0.253      0.800\n",
      "X6                                   0.161      0.217      0.741      0.459\n",
      "X7                                  -0.448      0.340     -1.316      0.188\n",
      "X8                                  -1.786      0.436     -4.099      0.000\n",
      "X9                                   0.253      0.339      0.747      0.455\n",
      "X10                                  0.124      0.232      0.536      0.592\n",
      "X11                                 -0.128      0.293     -0.437      0.662\n",
      "X12                                 -0.514      0.338     -1.523      0.128\n",
      "X13                                  0.513      0.345      1.487      0.137\n",
      "X14                                 -0.898      0.419     -2.142      0.032\n",
      "X15                                  0.154      0.272      0.568      0.570\n",
      "X16                                  1.430      0.385      3.713      0.000\n",
      "X17                                  0.314      0.549      0.572      0.567\n",
      "X18                                 -0.833      0.355     -2.346      0.019\n",
      "X19                                  0.078      0.196      0.400      0.689\n",
      "X20                                  0.138      0.356      0.387      0.699\n",
      "X21                                 -0.743      0.211     -3.515      0.000\n",
      "X22                                 -0.167      0.191     -0.874      0.382\n",
      "X23                                  0.029      0.222      0.132      0.895\n",
      "X24                                 -0.004      0.194     -0.019      0.985\n",
      "\n",
      "Geographically Weighted Regression (GWR) Results\n",
      "---------------------------------------------------------------------------\n",
      "Spatial kernel:                                           Adaptive bisquare\n",
      "Bandwidth used:                                                      77.000\n",
      "\n",
      "Diagnostic information\n",
      "---------------------------------------------------------------------------\n",
      "Residual sum of squares:                                             64.345\n",
      "Effective number of parameters (trace(S)):                           35.099\n",
      "Degree of freedom (n - trace(S)):                                    41.901\n",
      "Sigma estimate:                                                       1.239\n",
      "Log-likelihood:                                                    -102.346\n",
      "AIC:                                                                276.890\n",
      "AICc:                                                               344.021\n",
      "BIC:                                                                361.501\n",
      "R2:                                                                   0.983\n",
      "Adjusted R2:                                                          0.968\n",
      "Adj. alpha (95%):                                                     0.036\n",
      "Adj. critical t value (95%):                                          2.139\n",
      "\n",
      "Summary Statistics For GWR Parameter Estimates\n",
      "---------------------------------------------------------------------------\n",
      "Variable                   Mean        STD        Min     Median        Max\n",
      "-------------------- ---------- ---------- ---------- ---------- ----------\n",
      "X0                       37.676      0.074     37.557     37.640     37.837\n",
      "X1                        3.571      0.048      3.489      3.585      3.630\n",
      "X2                        0.035      0.031     -0.023      0.035      0.092\n",
      "X3                       -0.010      0.150     -0.215     -0.055      0.242\n",
      "X4                       -0.110      0.075     -0.240     -0.114      0.015\n",
      "X5                       -0.132      0.102     -0.307     -0.157      0.046\n",
      "X6                        0.145      0.043      0.048      0.156      0.200\n",
      "X7                       -0.420      0.100     -0.628     -0.371     -0.300\n",
      "X8                       -1.659      0.053     -1.799     -1.647     -1.557\n",
      "X9                        0.235      0.108     -0.106      0.257      0.414\n",
      "X10                       0.117      0.094     -0.143      0.133      0.309\n",
      "X11                      -0.138      0.040     -0.218     -0.139     -0.044\n",
      "X12                      -0.480      0.072     -0.732     -0.460     -0.401\n",
      "X13                       0.626      0.083      0.461      0.649      0.735\n",
      "X14                      -0.895      0.064     -1.043     -0.886     -0.768\n",
      "X15                       0.133      0.082      0.028      0.111      0.282\n",
      "X16                       1.454      0.220      1.089      1.483      1.776\n",
      "X17                       0.251      0.221     -0.039      0.185      0.673\n",
      "X18                      -0.823      0.038     -0.935     -0.819     -0.698\n",
      "X19                       0.043      0.037     -0.051      0.049      0.105\n",
      "X20                       0.186      0.118     -0.085      0.233      0.387\n",
      "X21                      -0.785      0.055     -0.897     -0.788     -0.691\n",
      "X22                      -0.147      0.033     -0.271     -0.140     -0.104\n",
      "X23                      -0.028      0.025     -0.087     -0.020      0.008\n",
      "X24                      -0.014      0.078     -0.133     -0.026      0.140\n",
      "===========================================================================\n",
      "\n"
     ]
    }
   ],
   "source": [
    "# Error, so use 77.\n",
    "# add diet and physical activity measurements\n",
    "#fit GWR model\n",
    "complete_gwr_model = mgwr.gwr.GWR(lng_lat_coords, \n",
    "                               np.asarray(y).reshape(-1,1), \n",
    "                               np.asarray(X_complete_std_test_passed),         \n",
    "                               77) #using bw from bw search on demographic predictors\n",
    "\n",
    "complete_gwr_results = complete_gwr_model.fit()\n",
    "complete_gwr_results.summary()"
   ]
  },
  {
   "cell_type": "code",
   "execution_count": 15,
   "id": "03afd588",
   "metadata": {},
   "outputs": [
    {
     "name": "stdout",
     "output_type": "stream",
     "text": [
      "RMSE of GWR adding alcohol visit predictors:  0.9141391004636409\n"
     ]
    }
   ],
   "source": [
    "#obtain prediction\n",
    "y_gwr_complete_predict2 = complete_gwr_results.predy\n",
    "#calculate RMSE\n",
    "gwr_complete_rmse_2 = mean_squared_error(y , y_gwr_complete_predict2, squared=False)\n",
    "print(\"RMSE of GWR adding alcohol visit predictors: \", gwr_complete_rmse_2)"
   ]
  },
  {
   "cell_type": "code",
   "execution_count": 16,
   "id": "5e59b186",
   "metadata": {},
   "outputs": [
    {
     "name": "stdout",
     "output_type": "stream",
     "text": [
      "26.1\n",
      "49.1\n",
      "25.741342124943912\n",
      "49.4693659272582\n"
     ]
    },
    {
     "data": {
      "text/plain": [
       "<Figure size 720x576 with 0 Axes>"
      ]
     },
     "metadata": {},
     "output_type": "display_data"
    },
    {
     "data": {
      "image/png": "[encoded data removed]",
      "text/plain": [
       "<Figure size 576x576 with 1 Axes>"
      ]
     },
     "metadata": {},
     "output_type": "display_data"
    }
   ],
   "source": [
    "# GWR scatter-curve plot\n",
    "import matplotlib\n",
    "\n",
    "font = {'family' : 'Arial',\n",
    "        'weight' : 'normal',\n",
    "        'size'   : 28}\n",
    "\n",
    "matplotlib.rc('font', **font)\n",
    "\n",
    "plt.figure(figsize=(10,8))\n",
    "sns.set_theme(style=\"whitegrid\",font_scale = 1.5)\n",
    "\n",
    "def prediction_scatter(true_label, prediction, lims, title):\n",
    "    plt.figure(figsize=(8,8))\n",
    "    scatter = plt.plot(true_label, prediction, \"o\", markersize=5, alpha=0.5, color=\"black\")\n",
    "    line = plt.plot(lims, lims, \"b--\",alpha=0.8, linewidth=2)\n",
    "    plt.xlim(lims)\n",
    "    plt.ylim(lims)\n",
    "    plt.xlabel('Observed Obesity Rate')\n",
    "    plt.ylabel('Predicted Obesity Rate')\n",
    "    plt.title(title)\n",
    "    \n",
    "print(np.min(y))\n",
    "print(np.max(y))\n",
    "print(np.min(y_gwr_complete_predict2))\n",
    "print(np.max(y_gwr_complete_predict2))\n",
    "\n",
    "#scatter plot\n",
    "lims = [15, 45]\n",
    "prediction_scatter(y, y_gwr_complete_predict2, lims, \"\")\n",
    "plt.tight_layout()\n",
    "# plt.savefig(\"../GWR_pred_origin_BUF.png\",dpi=300)"
   ]
  },
  {
   "cell_type": "code",
   "execution_count": 17,
   "id": "042a8f53",
   "metadata": {},
   "outputs": [],
   "source": [
    "# Coefficient maps\n",
    "feature_list = X_complete_std_test_passed.columns.tolist()\n",
    "col_nam = ['const']+feature_list # const is like constant\n",
    "\n",
    "#obtain coefficients from the GWR\n",
    "df_coef = pd.DataFrame(\n",
    "    data=complete_gwr_results.params,\n",
    "    columns=col_nam,\n",
    "    index=X_complete_std_test_passed.index\n",
    ") \n",
    "\n",
    "# merge the geometry of CBG\n",
    "ct_geometry = study_ct[['GEOID','geometry']]\n",
    "df_coef = df_coef.merge(ct_geometry, on='GEOID',how='left')\n",
    "gdf_coef = gpd.GeoDataFrame(df_coef, geometry='geometry')\n",
    "gdf_place_coef = gdf_coef[['GEOID','fafood','fitness','park','geometry']]\n",
    "\n",
    "gdf_place_coef.to_file(\"../02 Dataset/12 Locol coefficient for GWR/GWR_place_coef_BUF.shp\")"
   ]
  },
  {
   "cell_type": "code",
   "execution_count": 20,
   "id": "bdd72878",
   "metadata": {
    "scrolled": true
   },
   "outputs": [],
   "source": [
    "from pathlib import Path\n",
    "import pandas\n",
    "import geopandas\n",
    "\n",
    "folder = Path(\"../02 Dataset/12 Locol coefficient for GWR\")\n",
    "shapefiles = folder.glob(\"*.shp\")\n",
    "gdf = pandas.concat([\n",
    "    geopandas.read_file(shp)\n",
    "    for shp in shapefiles\n",
    "]).pipe(geopandas.GeoDataFrame)\n",
    "gdf.to_file(folder / 'Locol coefficient.shp')"
   ]
  },
  {
   "cell_type": "code",
   "execution_count": 21,
   "id": "ad9ec768",
   "metadata": {},
   "outputs": [
    {
     "data": {
      "text/html": [
       "<div>\n",
       "<style scoped>\n",
       "    .dataframe tbody tr th:only-of-type {\n",
       "        vertical-align: middle;\n",
       "    }\n",
       "\n",
       "    .dataframe tbody tr th {\n",
       "        vertical-align: top;\n",
       "    }\n",
       "\n",
       "    .dataframe thead th {\n",
       "        text-align: right;\n",
       "    }\n",
       "</style>\n",
       "<table border=\"1\" class=\"dataframe\">\n",
       "  <thead>\n",
       "    <tr style=\"text-align: right;\">\n",
       "      <th></th>\n",
       "      <th>GEOID</th>\n",
       "      <th>fafood</th>\n",
       "      <th>fitness</th>\n",
       "      <th>park</th>\n",
       "      <th>geometry</th>\n",
       "    </tr>\n",
       "  </thead>\n",
       "  <tbody>\n",
       "    <tr>\n",
       "      <th>0</th>\n",
       "      <td>36029000500</td>\n",
       "      <td>-0.156913</td>\n",
       "      <td>-0.014192</td>\n",
       "      <td>0.140248</td>\n",
       "      <td>POLYGON ((181917.184 4754674.446, 182207.061 4...</td>\n",
       "    </tr>\n",
       "    <tr>\n",
       "      <th>1</th>\n",
       "      <td>36029000700</td>\n",
       "      <td>-0.104204</td>\n",
       "      <td>-0.013209</td>\n",
       "      <td>0.091044</td>\n",
       "      <td>POLYGON ((188226.327 4750239.434, 188231.790 4...</td>\n",
       "    </tr>\n",
       "    <tr>\n",
       "      <th>2</th>\n",
       "      <td>36029000900</td>\n",
       "      <td>-0.108498</td>\n",
       "      <td>-0.018824</td>\n",
       "      <td>0.087753</td>\n",
       "      <td>POLYGON ((187600.152 4751953.840, 187608.648 4...</td>\n",
       "    </tr>\n",
       "    <tr>\n",
       "      <th>3</th>\n",
       "      <td>36029001000</td>\n",
       "      <td>-0.105027</td>\n",
       "      <td>-0.019145</td>\n",
       "      <td>0.079674</td>\n",
       "      <td>POLYGON ((188157.863 4752033.794, 188362.071 4...</td>\n",
       "    </tr>\n",
       "    <tr>\n",
       "      <th>4</th>\n",
       "      <td>36029001100</td>\n",
       "      <td>-0.109683</td>\n",
       "      <td>-0.024515</td>\n",
       "      <td>0.078051</td>\n",
       "      <td>POLYGON ((187466.665 4752786.825, 187489.104 4...</td>\n",
       "    </tr>\n",
       "    <tr>\n",
       "      <th>...</th>\n",
       "      <td>...</td>\n",
       "      <td>...</td>\n",
       "      <td>...</td>\n",
       "      <td>...</td>\n",
       "      <td>...</td>\n",
       "    </tr>\n",
       "    <tr>\n",
       "      <th>1990</th>\n",
       "      <td>36081108500</td>\n",
       "      <td>0.176875</td>\n",
       "      <td>-0.030299</td>\n",
       "      <td>0.123658</td>\n",
       "      <td>POLYGON ((601634.861 4514259.486, 601803.565 4...</td>\n",
       "    </tr>\n",
       "    <tr>\n",
       "      <th>1991</th>\n",
       "      <td>36081109300</td>\n",
       "      <td>0.135490</td>\n",
       "      <td>-0.110680</td>\n",
       "      <td>0.089095</td>\n",
       "      <td>POLYGON ((602563.792 4514617.602, 602578.820 4...</td>\n",
       "    </tr>\n",
       "    <tr>\n",
       "      <th>1992</th>\n",
       "      <td>36081141700</td>\n",
       "      <td>0.322454</td>\n",
       "      <td>-0.401736</td>\n",
       "      <td>-0.051355</td>\n",
       "      <td>POLYGON ((601532.531 4511638.232, 601603.560 4...</td>\n",
       "    </tr>\n",
       "    <tr>\n",
       "      <th>1993</th>\n",
       "      <td>36081006202</td>\n",
       "      <td>-0.487461</td>\n",
       "      <td>-0.352411</td>\n",
       "      <td>0.238111</td>\n",
       "      <td>POLYGON ((596102.112 4501444.923, 596241.586 4...</td>\n",
       "    </tr>\n",
       "    <tr>\n",
       "      <th>1994</th>\n",
       "      <td>36061016900</td>\n",
       "      <td>0.148373</td>\n",
       "      <td>-0.205153</td>\n",
       "      <td>-0.081524</td>\n",
       "      <td>POLYGON ((586361.895 4515475.994, 586400.139 4...</td>\n",
       "    </tr>\n",
       "  </tbody>\n",
       "</table>\n",
       "<p>3019 rows × 5 columns</p>\n",
       "</div>"
      ],
      "text/plain": [
       "            GEOID    fafood   fitness      park  \\\n",
       "0     36029000500 -0.156913 -0.014192  0.140248   \n",
       "1     36029000700 -0.104204 -0.013209  0.091044   \n",
       "2     36029000900 -0.108498 -0.018824  0.087753   \n",
       "3     36029001000 -0.105027 -0.019145  0.079674   \n",
       "4     36029001100 -0.109683 -0.024515  0.078051   \n",
       "...           ...       ...       ...       ...   \n",
       "1990  36081108500  0.176875 -0.030299  0.123658   \n",
       "1991  36081109300  0.135490 -0.110680  0.089095   \n",
       "1992  36081141700  0.322454 -0.401736 -0.051355   \n",
       "1993  36081006202 -0.487461 -0.352411  0.238111   \n",
       "1994  36061016900  0.148373 -0.205153 -0.081524   \n",
       "\n",
       "                                               geometry  \n",
       "0     POLYGON ((181917.184 4754674.446, 182207.061 4...  \n",
       "1     POLYGON ((188226.327 4750239.434, 188231.790 4...  \n",
       "2     POLYGON ((187600.152 4751953.840, 187608.648 4...  \n",
       "3     POLYGON ((188157.863 4752033.794, 188362.071 4...  \n",
       "4     POLYGON ((187466.665 4752786.825, 187489.104 4...  \n",
       "...                                                 ...  \n",
       "1990  POLYGON ((601634.861 4514259.486, 601803.565 4...  \n",
       "1991  POLYGON ((602563.792 4514617.602, 602578.820 4...  \n",
       "1992  POLYGON ((601532.531 4511638.232, 601603.560 4...  \n",
       "1993  POLYGON ((596102.112 4501444.923, 596241.586 4...  \n",
       "1994  POLYGON ((586361.895 4515475.994, 586400.139 4...  \n",
       "\n",
       "[3019 rows x 5 columns]"
      ]
     },
     "execution_count": 21,
     "metadata": {},
     "output_type": "execute_result"
    }
   ],
   "source": [
    "gdf"
   ]
  }
 ],
 "metadata": {
  "kernelspec": {
   "display_name": "Python 3 (ipykernel)",
   "language": "python",
   "name": "python3"
  },
  "language_info": {
   "codemirror_mode": {
    "name": "ipython",
    "version": 3
   },
   "file_extension": ".py",
   "mimetype": "text/x-python",
   "name": "python",
   "nbconvert_exporter": "python",
   "pygments_lexer": "ipython3",
   "version": "3.9.12"
  }
 },
 "nbformat": 4,
 "nbformat_minor": 5
}
