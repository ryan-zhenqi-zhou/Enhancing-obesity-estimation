{
 "cells": [
  {
   "cell_type": "code",
   "execution_count": 1,
   "id": "de947445",
   "metadata": {},
   "outputs": [],
   "source": [
    "# This script is for GWR\n",
    "# Take Dataset3 LA for example"
   ]
  },
  {
   "cell_type": "code",
   "execution_count": 2,
   "id": "a0296453",
   "metadata": {},
   "outputs": [
    {
     "name": "stderr",
     "output_type": "stream",
     "text": [
      "C:\\Users\\ryanz\\anaconda3\\envs\\Obesity\\lib\\site-packages\\pysal\\explore\\segregation\\network\\network.py:15: UserWarning: You need pandana and urbanaccess to work with segregation's network module\n",
      "You can install them with  `pip install urbanaccess pandana` or `conda install -c udst pandana urbanaccess`\n",
      "  warn(\n",
      "C:\\Users\\ryanz\\anaconda3\\envs\\Obesity\\lib\\site-packages\\pysal\\model\\spvcm\\abstracts.py:10: UserWarning: The `dill` module is required to use the sqlite backend fully.\n",
      "  from .sqlite import head_to_sql, start_sql\n"
     ]
    }
   ],
   "source": [
    "import pandas as pd\n",
    "import numpy as np\n",
    "import geopandas as gpd\n",
    "from pysal.model import mgwr\n",
    "# from sklearn.preprocessing import StandardScaler\n",
    "from sklearn.model_selection import KFold\n",
    "from sklearn.metrics import r2_score\n",
    "from sklearn.metrics import mean_squared_error\n",
    "import matplotlib.pyplot as plt\n",
    "import seaborn as sns"
   ]
  },
  {
   "cell_type": "code",
   "execution_count": 3,
   "id": "9904020b",
   "metadata": {},
   "outputs": [],
   "source": [
    "X_sociodemo_test_passed = pd.read_csv(\"../Data/01 Processed Dataset/Socio_LA.csv\", index_col = 'GEOID') # input\n",
    "y = X_sociodemo_test_passed.pop('obesity_cr')\n",
    "X_complete_test_passed = pd.read_csv(\"../Data/01 Processed Dataset/Complete_LA.csv\", index_col = \"GEOID\") # input\n",
    "del X_complete_test_passed['obesity_cr']"
   ]
  },
  {
   "cell_type": "code",
   "execution_count": 4,
   "id": "e0445db7",
   "metadata": {},
   "outputs": [],
   "source": [
    "# Standardization function\n",
    "def standarize_data(data, stats):\n",
    "    return (data - stats['mean'])/ stats['std']"
   ]
  },
  {
   "cell_type": "code",
   "execution_count": 5,
   "id": "b9d9ea8c",
   "metadata": {},
   "outputs": [],
   "source": [
    "X_sociodemo_test_passed_stats = X_sociodemo_test_passed.describe().transpose()\n",
    "X_sociodemo_std_test_passed = standarize_data(X_sociodemo_test_passed, X_sociodemo_test_passed_stats)\n",
    "\n",
    "X_complete_test_passed_stats = X_complete_test_passed.describe().transpose()\n",
    "X_complete_std_test_passed = standarize_data(X_complete_test_passed, X_complete_test_passed_stats)"
   ]
  },
  {
   "cell_type": "code",
   "execution_count": 6,
   "id": "32ffa11f",
   "metadata": {},
   "outputs": [],
   "source": [
    "# Coordinates\n",
    "ct_shp = gpd.read_file(\"../Data/05 Coordinates info for GWR/LA_CDC data_Tract_Ob_pro.shp\") # input\n",
    "ct_shp['GEOID'] = ct_shp['GEOID'].astype('int64')\n",
    "\n",
    "study_ct = X_sociodemo_std_test_passed.merge(ct_shp, on='GEOID', how='left')\n",
    "study_ct['Lonpro'] = pd.to_numeric(study_ct['Lonpro']) \n",
    "study_ct['Latpro'] = pd.to_numeric(study_ct['Latpro']) \n",
    "\n",
    "lng_lat_coords = np.column_stack([study_ct['Lonpro'], study_ct['Latpro']])"
   ]
  },
  {
   "cell_type": "code",
   "execution_count": 7,
   "id": "bbd8edd2",
   "metadata": {},
   "outputs": [
    {
     "name": "stdout",
     "output_type": "stream",
     "text": [
      "377.0\n"
     ]
    }
   ],
   "source": [
    "# Bandwidth\n",
    "# https://mgwr.readthedocs.io/en/latest/api.html\n",
    "socio_selector = mgwr.sel_bw.Sel_BW(lng_lat_coords, \n",
    "                                    np.asarray(y).reshape(-1,1), \n",
    "                                    np.asarray(X_sociodemo_std_test_passed), \n",
    "                                    spherical=False)\n",
    "\n",
    "socio_bw = socio_selector.search(criterion='AICc') # golden section search; AIC; number of nearest neighbor\n",
    "print(socio_bw)"
   ]
  },
  {
   "cell_type": "code",
   "execution_count": 8,
   "id": "39f777bb",
   "metadata": {},
   "outputs": [
    {
     "name": "stdout",
     "output_type": "stream",
     "text": [
      "===========================================================================\n",
      "Model type                                                         Gaussian\n",
      "Number of observations:                                                 947\n",
      "Number of covariates:                                                    22\n",
      "\n",
      "Global Regression Results\n",
      "---------------------------------------------------------------------------\n",
      "Residual sum of squares:                                           1030.600\n",
      "Log-likelihood:                                                   -1383.791\n",
      "AIC:                                                               2811.583\n",
      "AICc:                                                              2814.779\n",
      "BIC:                                                              -5308.702\n",
      "R2:                                                                   0.963\n",
      "Adj. R2:                                                              0.962\n",
      "\n",
      "Variable                              Est.         SE  t(Est/SE)    p-value\n",
      "------------------------------- ---------- ---------- ---------- ----------\n",
      "X0                                  27.429      0.034    799.671      0.000\n",
      "X1                                   1.402      0.046     30.522      0.000\n",
      "X2                                   0.025      0.036      0.708      0.479\n",
      "X3                                  -1.524      0.046    -33.497      0.000\n",
      "X4                                  -0.025      0.035     -0.723      0.470\n",
      "X5                                   1.492      0.119     12.552      0.000\n",
      "X6                                   0.032      0.038      0.857      0.391\n",
      "X7                                   0.075      0.071      1.060      0.289\n",
      "X8                                  -0.783      0.084     -9.309      0.000\n",
      "X9                                  -0.228      0.064     -3.567      0.000\n",
      "X10                                 -0.074      0.049     -1.513      0.130\n",
      "X11                                  0.100      0.049      2.047      0.041\n",
      "X12                                 -0.199      0.077     -2.566      0.010\n",
      "X13                                  0.653      0.123      5.297      0.000\n",
      "X14                                 -0.437      0.090     -4.839      0.000\n",
      "X15                                  0.093      0.039      2.407      0.016\n",
      "X16                                  1.202      0.070     17.081      0.000\n",
      "X17                                  0.580      0.083      7.023      0.000\n",
      "X18                                 -0.315      0.066     -4.776      0.000\n",
      "X19                                 -0.085      0.043     -2.002      0.045\n",
      "X20                                  0.238      0.082      2.916      0.004\n",
      "X21                                  0.004      0.049      0.084      0.933\n",
      "\n",
      "Geographically Weighted Regression (GWR) Results\n",
      "---------------------------------------------------------------------------\n",
      "Spatial kernel:                                           Adaptive bisquare\n",
      "Bandwidth used:                                                     377.000\n",
      "\n",
      "Diagnostic information\n",
      "---------------------------------------------------------------------------\n",
      "Residual sum of squares:                                            772.903\n",
      "Effective number of parameters (trace(S)):                          117.612\n",
      "Degree of freedom (n - trace(S)):                                   829.388\n",
      "Sigma estimate:                                                       0.965\n",
      "Log-likelihood:                                                   -1247.546\n",
      "AIC:                                                               2732.315\n",
      "AICc:                                                              2766.609\n",
      "BIC:                                                               3307.973\n",
      "R2:                                                                   0.972\n",
      "Adjusted R2:                                                          0.968\n",
      "Adj. alpha (95%):                                                     0.009\n",
      "Adj. critical t value (95%):                                          2.604\n",
      "\n",
      "Summary Statistics For GWR Parameter Estimates\n",
      "---------------------------------------------------------------------------\n",
      "Variable                   Mean        STD        Min     Median        Max\n",
      "-------------------- ---------- ---------- ---------- ---------- ----------\n",
      "X0                       27.264      0.296     26.579     27.199     27.932\n",
      "X1                        1.033      0.577     -0.133      1.316      1.796\n",
      "X2                        0.036      0.060     -0.117      0.029      0.155\n",
      "X3                       -1.442      0.136     -1.893     -1.447     -1.184\n",
      "X4                       -0.023      0.057     -0.110     -0.019      0.117\n",
      "X5                        1.657      0.351      0.644      1.746      2.208\n",
      "X6                        0.049      0.043     -0.043      0.052      0.145\n",
      "X7                       -0.029      0.142     -0.341     -0.005      0.323\n",
      "X8                       -0.877      0.222     -1.459     -0.869     -0.211\n",
      "X9                       -0.243      0.147     -0.619     -0.231      0.086\n",
      "X10                      -0.075      0.081     -0.265     -0.109      0.088\n",
      "X11                      -0.023      0.106     -0.301     -0.034      0.170\n",
      "X12                      -0.284      0.194     -0.555     -0.301      0.116\n",
      "X13                       0.437      0.358     -0.224      0.431      1.583\n",
      "X14                      -0.614      0.338     -1.621     -0.502     -0.131\n",
      "X15                       0.100      0.117     -0.128      0.084      0.338\n",
      "X16                       1.286      0.336      0.794      1.453      1.893\n",
      "X17                       0.525      0.202      0.185      0.502      1.012\n",
      "X18                      -0.256      0.124     -0.670     -0.250      0.060\n",
      "X19                      -0.086      0.101     -0.262     -0.083      0.149\n",
      "X20                       0.251      0.246     -0.360      0.202      0.848\n",
      "X21                      -0.088      0.084     -0.246     -0.098      0.160\n",
      "===========================================================================\n",
      "\n"
     ]
    }
   ],
   "source": [
    "# sociodemographic predictors\n",
    "#fit GWR model\n",
    "socio_gwr_model = mgwr.gwr.GWR(lng_lat_coords, \n",
    "                               np.asarray(y).reshape(-1,1), \n",
    "                               np.asarray(X_sociodemo_std_test_passed), \n",
    "                               socio_bw)\n",
    "\n",
    "socio_gwr_results = socio_gwr_model.fit()\n",
    "socio_gwr_results.summary()"
   ]
  },
  {
   "cell_type": "code",
   "execution_count": 9,
   "id": "b38f3113",
   "metadata": {},
   "outputs": [
    {
     "name": "stdout",
     "output_type": "stream",
     "text": [
      "RMSE of GWR with sociodemographic predictors:  0.9034155626534235\n"
     ]
    }
   ],
   "source": [
    "#obtain prediction\n",
    "y_gwr_socio_predict3 = socio_gwr_results.predy\n",
    "\n",
    "#calculate RMSE\n",
    "gwr_socio_rmse_3 = mean_squared_error(y , y_gwr_socio_predict3, squared=False)\n",
    "print(\"RMSE of GWR with sociodemographic predictors: \", gwr_socio_rmse_3)"
   ]
  },
  {
   "cell_type": "code",
   "execution_count": 10,
   "id": "e5b6d240",
   "metadata": {},
   "outputs": [
    {
     "name": "stdout",
     "output_type": "stream",
     "text": [
      "400.0\n"
     ]
    }
   ],
   "source": [
    "complete_selector = mgwr.sel_bw.Sel_BW(lng_lat_coords, \n",
    "                                       np.asarray(y).reshape(-1,1),\n",
    "                                       np.asarray(X_complete_std_test_passed),\n",
    "                                       spherical=False)\n",
    "\n",
    "complete_bw = complete_selector.search(criterion='AICc')\n",
    "print(complete_bw)"
   ]
  },
  {
   "cell_type": "code",
   "execution_count": 11,
   "id": "f864ad64",
   "metadata": {},
   "outputs": [
    {
     "name": "stdout",
     "output_type": "stream",
     "text": [
      "===========================================================================\n",
      "Model type                                                         Gaussian\n",
      "Number of observations:                                                 947\n",
      "Number of covariates:                                                    25\n",
      "\n",
      "Global Regression Results\n",
      "---------------------------------------------------------------------------\n",
      "Residual sum of squares:                                           1012.424\n",
      "Log-likelihood:                                                   -1375.366\n",
      "AIC:                                                               2800.733\n",
      "AICc:                                                              2804.259\n",
      "BIC:                                                              -5306.318\n",
      "R2:                                                                   0.964\n",
      "Adj. R2:                                                              0.963\n",
      "\n",
      "Variable                              Est.         SE  t(Est/SE)    p-value\n",
      "------------------------------- ---------- ---------- ---------- ----------\n",
      "X0                                  27.429      0.034    805.508      0.000\n",
      "X1                                   1.366      0.047     28.904      0.000\n",
      "X2                                   0.037      0.036      1.035      0.301\n",
      "X3                                  -1.557      0.047    -33.168      0.000\n",
      "X4                                  -0.026      0.035     -0.753      0.451\n",
      "X5                                   1.337      0.126     10.602      0.000\n",
      "X6                                   0.027      0.037      0.722      0.470\n",
      "X7                                   0.055      0.071      0.774      0.439\n",
      "X8                                  -0.760      0.084     -9.056      0.000\n",
      "X9                                  -0.191      0.065     -2.945      0.003\n",
      "X10                                 -0.061      0.049     -1.240      0.215\n",
      "X11                                  0.085      0.049      1.755      0.079\n",
      "X12                                 -0.180      0.077     -2.333      0.020\n",
      "X13                                  0.715      0.124      5.769      0.000\n",
      "X14                                 -0.349      0.093     -3.737      0.000\n",
      "X15                                  0.089      0.038      2.324      0.020\n",
      "X16                                  1.240      0.071     17.517      0.000\n",
      "X17                                  0.563      0.082      6.844      0.000\n",
      "X18                                 -0.196      0.072     -2.698      0.007\n",
      "X19                                 -0.096      0.044     -2.208      0.027\n",
      "X20                                  0.295      0.082      3.585      0.000\n",
      "X21                                  0.025      0.049      0.501      0.616\n",
      "X22                                  0.180      0.050      3.567      0.000\n",
      "X23                                 -0.166      0.075     -2.211      0.027\n",
      "X24                                 -0.005      0.049     -0.098      0.922\n",
      "\n",
      "Geographically Weighted Regression (GWR) Results\n",
      "---------------------------------------------------------------------------\n",
      "Spatial kernel:                                           Adaptive bisquare\n",
      "Bandwidth used:                                                     377.000\n",
      "\n",
      "Diagnostic information\n",
      "---------------------------------------------------------------------------\n",
      "Residual sum of squares:                                            719.699\n",
      "Effective number of parameters (trace(S)):                          133.572\n",
      "Degree of freedom (n - trace(S)):                                   813.428\n",
      "Sigma estimate:                                                       0.941\n",
      "Log-likelihood:                                                   -1213.775\n",
      "AIC:                                                               2696.695\n",
      "AICc:                                                              2741.663\n",
      "BIC:                                                               3349.815\n",
      "R2:                                                                   0.974\n",
      "Adjusted R2:                                                          0.970\n",
      "Adj. alpha (95%):                                                     0.009\n",
      "Adj. critical t value (95%):                                          2.604\n",
      "\n",
      "Summary Statistics For GWR Parameter Estimates\n",
      "---------------------------------------------------------------------------\n",
      "Variable                   Mean        STD        Min     Median        Max\n",
      "-------------------- ---------- ---------- ---------- ---------- ----------\n",
      "X0                       27.324      0.330     26.579     27.244     28.099\n",
      "X1                        0.934      0.527     -0.182      1.168      1.635\n",
      "X2                        0.039      0.057     -0.096      0.030      0.172\n",
      "X3                       -1.483      0.142     -1.986     -1.489     -1.207\n",
      "X4                       -0.030      0.057     -0.118     -0.025      0.079\n",
      "X5                        1.397      0.320      0.506      1.400      2.018\n",
      "X6                        0.044      0.041     -0.030      0.045      0.146\n",
      "X7                       -0.052      0.141     -0.373     -0.042      0.299\n",
      "X8                       -0.870      0.220     -1.404     -0.876     -0.220\n",
      "X9                       -0.222      0.143     -0.595     -0.223      0.107\n",
      "X10                      -0.077      0.076     -0.233     -0.109      0.086\n",
      "X11                      -0.032      0.113     -0.320     -0.039      0.176\n",
      "X12                      -0.288      0.198     -0.567     -0.302      0.115\n",
      "X13                       0.467      0.393     -0.168      0.419      1.919\n",
      "X14                      -0.537      0.336     -1.556     -0.437     -0.057\n",
      "X15                       0.092      0.130     -0.170      0.077      0.361\n",
      "X16                       1.309      0.311      0.834      1.479      1.903\n",
      "X17                       0.497      0.194      0.128      0.484      0.939\n",
      "X18                      -0.177      0.138     -0.649     -0.157      0.086\n",
      "X19                      -0.069      0.100     -0.249     -0.081      0.179\n",
      "X20                       0.249      0.206     -0.234      0.212      0.758\n",
      "X21                      -0.066      0.089     -0.268     -0.078      0.171\n",
      "X22                       0.199      0.206     -0.096      0.244      0.635\n",
      "X23                      -0.297      0.223     -0.806     -0.262      0.171\n",
      "X24                      -0.069      0.244     -0.498     -0.042      0.271\n",
      "===========================================================================\n",
      "\n"
     ]
    }
   ],
   "source": [
    "# add diet and physical activity measurements\n",
    "#fit GWR model\n",
    "complete_gwr_model = mgwr.gwr.GWR(lng_lat_coords, \n",
    "                               np.asarray(y).reshape(-1,1), \n",
    "                               np.asarray(X_complete_std_test_passed),         \n",
    "                               socio_bw) #using bw from bw search on demographic predictors\n",
    "\n",
    "complete_gwr_results = complete_gwr_model.fit()\n",
    "complete_gwr_results.summary()"
   ]
  },
  {
   "cell_type": "code",
   "execution_count": 12,
   "id": "03afd588",
   "metadata": {},
   "outputs": [
    {
     "name": "stdout",
     "output_type": "stream",
     "text": [
      "RMSE of GWR adding alcohol visit predictors:  0.8717671864718496\n"
     ]
    }
   ],
   "source": [
    "#obtain prediction\n",
    "y_gwr_complete_predict2 = complete_gwr_results.predy\n",
    "#calculate RMSE\n",
    "gwr_complete_rmse_2 = mean_squared_error(y , y_gwr_complete_predict2, squared=False)\n",
    "print(\"RMSE of GWR adding alcohol visit predictors: \", gwr_complete_rmse_2)"
   ]
  },
  {
   "cell_type": "code",
   "execution_count": 13,
   "id": "5e59b186",
   "metadata": {},
   "outputs": [
    {
     "name": "stdout",
     "output_type": "stream",
     "text": [
      "17.0\n",
      "41.6\n",
      "16.22240558885607\n",
      "40.8975561211349\n"
     ]
    },
    {
     "data": {
      "text/plain": [
       "<Figure size 720x576 with 0 Axes>"
      ]
     },
     "metadata": {},
     "output_type": "display_data"
    },
    {
     "data": {
      "image/png": "[encoded data removed]",
      "text/plain": [
       "<Figure size 576x576 with 1 Axes>"
      ]
     },
     "metadata": {},
     "output_type": "display_data"
    }
   ],
   "source": [
    "# GWR scatter-curve plot\n",
    "import matplotlib\n",
    "\n",
    "font = {'family' : 'Arial',\n",
    "        'weight' : 'normal',\n",
    "        'size'   : 28}\n",
    "\n",
    "matplotlib.rc('font', **font)\n",
    "\n",
    "plt.figure(figsize=(10,8))\n",
    "sns.set_theme(style=\"whitegrid\",font_scale = 1.5)\n",
    "\n",
    "def prediction_scatter(true_label, prediction, lims, title):\n",
    "    plt.figure(figsize=(8,8))\n",
    "    scatter = plt.plot(true_label, prediction, \"o\", markersize=5, alpha=0.5, color=\"black\")\n",
    "    line = plt.plot(lims, lims, \"b--\",alpha=0.8, linewidth=2)\n",
    "    plt.xlim(lims)\n",
    "    plt.ylim(lims)\n",
    "    plt.xlabel('Observed Obesity Rate')\n",
    "    plt.ylabel('Predicted Obesity Rate')\n",
    "    plt.title(title)\n",
    "    \n",
    "print(np.min(y))\n",
    "print(np.max(y))\n",
    "print(np.min(y_gwr_complete_predict2))\n",
    "print(np.max(y_gwr_complete_predict2))\n",
    "\n",
    "#scatter plot\n",
    "lims = [15, 45]\n",
    "prediction_scatter(y, y_gwr_complete_predict2, lims, \"\")\n",
    "plt.tight_layout()\n",
    "# plt.savefig(\"../GWR_pred_origin_LA.png\",dpi=300)"
   ]
  },
  {
   "cell_type": "code",
   "execution_count": 15,
   "id": "042a8f53",
   "metadata": {},
   "outputs": [],
   "source": [
    "# Coefficient maps\n",
    "feature_list = X_complete_std_test_passed.columns.tolist()\n",
    "col_nam = ['const']+feature_list # const is like constant\n",
    "\n",
    "#obtain coefficients from the GWR\n",
    "df_coef = pd.DataFrame(\n",
    "    data=complete_gwr_results.params,\n",
    "    columns=col_nam,\n",
    "    index=X_complete_std_test_passed.index\n",
    ") \n",
    "\n",
    "# merge the geometry of CBG\n",
    "ct_geometry = study_ct[['GEOID','geometry']]\n",
    "df_coef = df_coef.merge(ct_geometry, on='GEOID',how='left')\n",
    "gdf_coef = gpd.GeoDataFrame(df_coef, geometry='geometry')\n",
    "gdf_place_coef = gdf_coef[['GEOID','fitness','park','fafood','geometry']]\n",
    "\n",
    "# gdf_place_coef.to_file(\"../Data/06 Locol coefficient for GWR/GWR_place_coef_LA.shp\")"
   ]
  }
 ],
 "metadata": {
  "kernelspec": {
   "display_name": "Python 3 (ipykernel)",
   "language": "python",
   "name": "python3"
  },
  "language_info": {
   "codemirror_mode": {
    "name": "ipython",
    "version": 3
   },
   "file_extension": ".py",
   "mimetype": "text/x-python",
   "name": "python",
   "nbconvert_exporter": "python",
   "pygments_lexer": "ipython3",
   "version": "3.9.12"
  }
 },
 "nbformat": 4,
 "nbformat_minor": 5
}
