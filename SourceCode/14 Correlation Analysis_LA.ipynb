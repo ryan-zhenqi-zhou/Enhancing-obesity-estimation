{
 "cells": [
  {
   "cell_type": "markdown",
   "id": "9ec9fd54",
   "metadata": {},
   "source": [
    "# LA"
   ]
  },
  {
   "cell_type": "code",
   "execution_count": 1,
   "id": "090dd306",
   "metadata": {},
   "outputs": [
    {
     "name": "stderr",
     "output_type": "stream",
     "text": [
      "UsageError: Line magic function `%` not found.\n"
     ]
    }
   ],
   "source": [
    "import numpy as np\n",
    "import pandas as pd\n",
    "import matplotlib.pyplot as plt\n",
    "from scipy import stats\n",
    "import scipy\n",
    "% matplotlib inline"
   ]
  },
  {
   "cell_type": "code",
   "execution_count": 2,
   "id": "e47cc28a",
   "metadata": {},
   "outputs": [],
   "source": [
    "df = pd.read_csv(\"../Data/01 Processed Dataset/Complete_lA.csv\")\n",
    "df1 = df[['fafood','fitness','park','obesity_cr']]"
   ]
  },
  {
   "cell_type": "code",
   "execution_count": 3,
   "id": "3f265fbd",
   "metadata": {},
   "outputs": [
    {
     "data": {
      "text/html": [
       "<div>\n",
       "<style scoped>\n",
       "    .dataframe tbody tr th:only-of-type {\n",
       "        vertical-align: middle;\n",
       "    }\n",
       "\n",
       "    .dataframe tbody tr th {\n",
       "        vertical-align: top;\n",
       "    }\n",
       "\n",
       "    .dataframe thead th {\n",
       "        text-align: right;\n",
       "    }\n",
       "</style>\n",
       "<table border=\"1\" class=\"dataframe\">\n",
       "  <thead>\n",
       "    <tr style=\"text-align: right;\">\n",
       "      <th></th>\n",
       "      <th>fafood</th>\n",
       "      <th>fitness</th>\n",
       "      <th>park</th>\n",
       "      <th>obesity_cr</th>\n",
       "    </tr>\n",
       "  </thead>\n",
       "  <tbody>\n",
       "    <tr>\n",
       "      <th>0</th>\n",
       "      <td>0.808312</td>\n",
       "      <td>0.924512</td>\n",
       "      <td>0.798134</td>\n",
       "      <td>22.0</td>\n",
       "    </tr>\n",
       "    <tr>\n",
       "      <th>1</th>\n",
       "      <td>0.626115</td>\n",
       "      <td>0.869126</td>\n",
       "      <td>0.754610</td>\n",
       "      <td>23.4</td>\n",
       "    </tr>\n",
       "    <tr>\n",
       "      <th>2</th>\n",
       "      <td>0.697122</td>\n",
       "      <td>0.827326</td>\n",
       "      <td>0.570550</td>\n",
       "      <td>24.7</td>\n",
       "    </tr>\n",
       "    <tr>\n",
       "      <th>3</th>\n",
       "      <td>0.474305</td>\n",
       "      <td>0.630256</td>\n",
       "      <td>0.466741</td>\n",
       "      <td>23.5</td>\n",
       "    </tr>\n",
       "    <tr>\n",
       "      <th>4</th>\n",
       "      <td>0.607633</td>\n",
       "      <td>0.982546</td>\n",
       "      <td>0.762392</td>\n",
       "      <td>23.1</td>\n",
       "    </tr>\n",
       "  </tbody>\n",
       "</table>\n",
       "</div>"
      ],
      "text/plain": [
       "     fafood   fitness      park  obesity_cr\n",
       "0  0.808312  0.924512  0.798134        22.0\n",
       "1  0.626115  0.869126  0.754610        23.4\n",
       "2  0.697122  0.827326  0.570550        24.7\n",
       "3  0.474305  0.630256  0.466741        23.5\n",
       "4  0.607633  0.982546  0.762392        23.1"
      ]
     },
     "execution_count": 3,
     "metadata": {},
     "output_type": "execute_result"
    }
   ],
   "source": [
    "df1.head()"
   ]
  },
  {
   "cell_type": "code",
   "execution_count": 4,
   "id": "46ebd4c1",
   "metadata": {},
   "outputs": [
    {
     "data": {
      "text/plain": [
       "947"
      ]
     },
     "execution_count": 4,
     "metadata": {},
     "output_type": "execute_result"
    }
   ],
   "source": [
    "len(df1)"
   ]
  },
  {
   "cell_type": "code",
   "execution_count": 5,
   "id": "b5503692",
   "metadata": {},
   "outputs": [
    {
     "data": {
      "text/plain": [
       "fafood        0.283048\n",
       "fitness      -0.691540\n",
       "park         -0.459689\n",
       "obesity_cr    1.000000\n",
       "Name: obesity_cr, dtype: float64"
      ]
     },
     "execution_count": 5,
     "metadata": {},
     "output_type": "execute_result"
    }
   ],
   "source": [
    "# Pearson\n",
    "\n",
    "df_pearson = df1.corr(method='pearson')\n",
    "df_pearson.iloc[-1]\n",
    "\n",
    "# >0.3 \n",
    "# fafood  "
   ]
  },
  {
   "cell_type": "code",
   "execution_count": 6,
   "id": "eb577c5e",
   "metadata": {},
   "outputs": [
    {
     "name": "stdout",
     "output_type": "stream",
     "text": [
      "fafood | 0.283***\n",
      "fitness | -0.6915***\n",
      "park | -0.4597***\n"
     ]
    }
   ],
   "source": [
    "# Pearson and p-value\n",
    "\n",
    "col = list(df1)\n",
    "\n",
    "for vari in col:\n",
    "    if vari != 'obesity_cr':\n",
    "        coffi = scipy.stats.pearsonr(df1[vari], df1['obesity_cr'])[0].round(4)\n",
    "        p_value = scipy.stats.pearsonr(df1[vari], df1['obesity_cr'])[1]\n",
    "        if p_value < 0.001:\n",
    "            print(vari + \" | \" + str(coffi) + \"***\") \n",
    "        if p_value < 0.01 and p_value >= 0.001:\n",
    "            print(vari + \" | \" + str(coffi) + \"**\") \n",
    "        if p_value < 0.05 and p_value >= 0.01:\n",
    "            print(vari + \" | \" + str(coffi) + \"*\") \n",
    "        if p_value >= 0.05:\n",
    "            print(vari + \" | \" + str(coffi)) "
   ]
  },
  {
   "cell_type": "code",
   "execution_count": 7,
   "id": "3f3a306b",
   "metadata": {},
   "outputs": [
    {
     "data": {
      "text/plain": [
       "fafood        0.330676\n",
       "fitness      -0.802474\n",
       "park         -0.514414\n",
       "obesity_cr    1.000000\n",
       "Name: obesity_cr, dtype: float64"
      ]
     },
     "execution_count": 7,
     "metadata": {},
     "output_type": "execute_result"
    }
   ],
   "source": [
    "# spearman\n",
    "\n",
    "df_spearman = df1.corr(method='spearman')\n",
    "df_spearman.iloc[-1]\n",
    "\n",
    "# >0.3 "
   ]
  },
  {
   "cell_type": "code",
   "execution_count": 9,
   "id": "bab68a8e",
   "metadata": {},
   "outputs": [
    {
     "name": "stdout",
     "output_type": "stream",
     "text": [
      "fafood | 0.3307***\n",
      "fitness | -0.8025***\n",
      "park | -0.5144***\n"
     ]
    }
   ],
   "source": [
    "# spearman and p-value\n",
    "\n",
    "col = list(df1)\n",
    "\n",
    "for vari in col:\n",
    "    if vari != 'obesity_cr':\n",
    "        coffi = scipy.stats.spearmanr(df1[vari], df1['obesity_cr'])[0].round(4)\n",
    "        p_value = scipy.stats.spearmanr(df1[vari], df1['obesity_cr'])[1]\n",
    "        if p_value < 0.001:\n",
    "            print(vari + \" | \" + str(coffi) + \"***\") \n",
    "        if p_value < 0.01 and p_value >= 0.001:\n",
    "            print(vari + \" | \" + str(coffi) + \"**\") \n",
    "        if p_value < 0.05 and p_value >= 0.01:\n",
    "            print(vari + \" | \" + str(coffi) + \"*\") \n",
    "        if p_value >= 0.05:\n",
    "            print(vari + \" | \" + str(coffi)) "
   ]
  }
 ],
 "metadata": {
  "kernelspec": {
   "display_name": "Python 3 (ipykernel)",
   "language": "python",
   "name": "python3"
  },
  "language_info": {
   "codemirror_mode": {
    "name": "ipython",
    "version": 3
   },
   "file_extension": ".py",
   "mimetype": "text/x-python",
   "name": "python",
   "nbconvert_exporter": "python",
   "pygments_lexer": "ipython3",
   "version": "3.9.12"
  }
 },
 "nbformat": 4,
 "nbformat_minor": 5
}
