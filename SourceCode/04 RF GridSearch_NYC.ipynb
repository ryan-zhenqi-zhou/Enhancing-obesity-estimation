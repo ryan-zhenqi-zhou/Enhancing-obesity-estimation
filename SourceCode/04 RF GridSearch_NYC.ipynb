{
 "cells": [
  {
   "cell_type": "code",
   "execution_count": 1,
   "id": "a9c0a19e",
   "metadata": {},
   "outputs": [],
   "source": [
    "# This script is for RF GridSearch\n",
    "# Take 70% Dataset 3 NYC for example"
   ]
  },
  {
   "cell_type": "code",
   "execution_count": 5,
   "id": "26a752f9",
   "metadata": {},
   "outputs": [],
   "source": [
    "# Packages\n",
    "import pandas as pd\n",
    "import numpy as np\n",
    "from sklearn.preprocessing import StandardScaler\n",
    "from sklearn.pipeline import Pipeline\n",
    "from sklearn.ensemble import RandomForestRegressor\n",
    "from sklearn.model_selection import GridSearchCV"
   ]
  },
  {
   "cell_type": "code",
   "execution_count": 6,
   "id": "a1808cec",
   "metadata": {},
   "outputs": [],
   "source": [
    "# Read the files\n",
    "X_sociodemo_train = pd.read_csv(\"../Data/04 Data for RF and DNN Optimal Parameters Search/02 70%_NYC_1000/X_sociodemo_train.csv\", index_col='GEOID')\n",
    "y_train = pd.read_csv(\"../Data/04 Data for RF and DNN Optimal Parameters Search/02 70%_NYC_1000/y_train.csv\", index_col='GEOID')"
   ]
  },
  {
   "cell_type": "code",
   "execution_count": 10,
   "id": "1b299a17",
   "metadata": {},
   "outputs": [],
   "source": [
    "# Flatten y_train\n",
    "y_train = np.ravel(y_train)"
   ]
  },
  {
   "cell_type": "code",
   "execution_count": 11,
   "id": "b1215734",
   "metadata": {},
   "outputs": [
    {
     "data": {
      "text/html": [
       "<div>\n",
       "<style scoped>\n",
       "    .dataframe tbody tr th:only-of-type {\n",
       "        vertical-align: middle;\n",
       "    }\n",
       "\n",
       "    .dataframe tbody tr th {\n",
       "        vertical-align: top;\n",
       "    }\n",
       "\n",
       "    .dataframe thead th {\n",
       "        text-align: right;\n",
       "    }\n",
       "</style>\n",
       "<table border=\"1\" class=\"dataframe\">\n",
       "  <thead>\n",
       "    <tr style=\"text-align: right;\">\n",
       "      <th></th>\n",
       "      <th>% Black</th>\n",
       "      <th>% Ame Indi and AK Native</th>\n",
       "      <th>% Asian</th>\n",
       "      <th>% Nati Hawa and Paci Island</th>\n",
       "      <th>% Hispanic or Latino</th>\n",
       "      <th>% male</th>\n",
       "      <th>% married</th>\n",
       "      <th>% age 18-29</th>\n",
       "      <th>% age 30-39</th>\n",
       "      <th>% age 40-49</th>\n",
       "      <th>...</th>\n",
       "      <th>% age &gt;=60</th>\n",
       "      <th>% &lt;highschool</th>\n",
       "      <th>median income</th>\n",
       "      <th>% unemployment</th>\n",
       "      <th>% below poverty line</th>\n",
       "      <th>% food stamp/SNAP</th>\n",
       "      <th>median value units built</th>\n",
       "      <th>median year units built</th>\n",
       "      <th>% renter-occupied housing units</th>\n",
       "      <th>population density</th>\n",
       "    </tr>\n",
       "    <tr>\n",
       "      <th>GEOID</th>\n",
       "      <th></th>\n",
       "      <th></th>\n",
       "      <th></th>\n",
       "      <th></th>\n",
       "      <th></th>\n",
       "      <th></th>\n",
       "      <th></th>\n",
       "      <th></th>\n",
       "      <th></th>\n",
       "      <th></th>\n",
       "      <th></th>\n",
       "      <th></th>\n",
       "      <th></th>\n",
       "      <th></th>\n",
       "      <th></th>\n",
       "      <th></th>\n",
       "      <th></th>\n",
       "      <th></th>\n",
       "      <th></th>\n",
       "      <th></th>\n",
       "      <th></th>\n",
       "    </tr>\n",
       "  </thead>\n",
       "  <tbody>\n",
       "    <tr>\n",
       "      <th>36081040700</th>\n",
       "      <td>0.045621</td>\n",
       "      <td>0.007010</td>\n",
       "      <td>0.035591</td>\n",
       "      <td>0.0</td>\n",
       "      <td>0.917494</td>\n",
       "      <td>0.541954</td>\n",
       "      <td>0.414732</td>\n",
       "      <td>0.172131</td>\n",
       "      <td>0.205242</td>\n",
       "      <td>0.137295</td>\n",
       "      <td>...</td>\n",
       "      <td>0.090703</td>\n",
       "      <td>0.456792</td>\n",
       "      <td>50993</td>\n",
       "      <td>0.039768</td>\n",
       "      <td>0.202918</td>\n",
       "      <td>0.302752</td>\n",
       "      <td>636600</td>\n",
       "      <td>1947</td>\n",
       "      <td>0.863405</td>\n",
       "      <td>46498.332540</td>\n",
       "    </tr>\n",
       "    <tr>\n",
       "      <th>36085030301</th>\n",
       "      <td>0.120352</td>\n",
       "      <td>0.002544</td>\n",
       "      <td>0.209198</td>\n",
       "      <td>0.0</td>\n",
       "      <td>0.308611</td>\n",
       "      <td>0.490020</td>\n",
       "      <td>0.515054</td>\n",
       "      <td>0.237573</td>\n",
       "      <td>0.123483</td>\n",
       "      <td>0.136008</td>\n",
       "      <td>...</td>\n",
       "      <td>0.193151</td>\n",
       "      <td>0.127330</td>\n",
       "      <td>76641</td>\n",
       "      <td>0.058712</td>\n",
       "      <td>0.087323</td>\n",
       "      <td>0.047671</td>\n",
       "      <td>355100</td>\n",
       "      <td>1977</td>\n",
       "      <td>0.317808</td>\n",
       "      <td>7109.130015</td>\n",
       "    </tr>\n",
       "    <tr>\n",
       "      <th>36081030600</th>\n",
       "      <td>0.855427</td>\n",
       "      <td>0.000000</td>\n",
       "      <td>0.032726</td>\n",
       "      <td>0.0</td>\n",
       "      <td>0.067730</td>\n",
       "      <td>0.459818</td>\n",
       "      <td>0.457799</td>\n",
       "      <td>0.142709</td>\n",
       "      <td>0.158244</td>\n",
       "      <td>0.114954</td>\n",
       "      <td>...</td>\n",
       "      <td>0.194490</td>\n",
       "      <td>0.151437</td>\n",
       "      <td>75529</td>\n",
       "      <td>0.052151</td>\n",
       "      <td>0.152285</td>\n",
       "      <td>0.171363</td>\n",
       "      <td>417100</td>\n",
       "      <td>1958</td>\n",
       "      <td>0.345011</td>\n",
       "      <td>3575.395826</td>\n",
       "    </tr>\n",
       "    <tr>\n",
       "      <th>36081099705</th>\n",
       "      <td>0.000000</td>\n",
       "      <td>0.000000</td>\n",
       "      <td>0.437407</td>\n",
       "      <td>0.0</td>\n",
       "      <td>0.104694</td>\n",
       "      <td>0.511923</td>\n",
       "      <td>0.574672</td>\n",
       "      <td>0.156855</td>\n",
       "      <td>0.095380</td>\n",
       "      <td>0.133010</td>\n",
       "      <td>...</td>\n",
       "      <td>0.253353</td>\n",
       "      <td>0.078818</td>\n",
       "      <td>108009</td>\n",
       "      <td>0.015395</td>\n",
       "      <td>0.077124</td>\n",
       "      <td>0.032227</td>\n",
       "      <td>624400</td>\n",
       "      <td>1981</td>\n",
       "      <td>0.275829</td>\n",
       "      <td>539.352236</td>\n",
       "    </tr>\n",
       "    <tr>\n",
       "      <th>36081027400</th>\n",
       "      <td>0.819860</td>\n",
       "      <td>0.000000</td>\n",
       "      <td>0.037556</td>\n",
       "      <td>0.0</td>\n",
       "      <td>0.047740</td>\n",
       "      <td>0.355188</td>\n",
       "      <td>0.322870</td>\n",
       "      <td>0.125398</td>\n",
       "      <td>0.122852</td>\n",
       "      <td>0.150223</td>\n",
       "      <td>...</td>\n",
       "      <td>0.218332</td>\n",
       "      <td>0.140323</td>\n",
       "      <td>65938</td>\n",
       "      <td>0.051546</td>\n",
       "      <td>0.092298</td>\n",
       "      <td>0.196181</td>\n",
       "      <td>347600</td>\n",
       "      <td>1964</td>\n",
       "      <td>0.189236</td>\n",
       "      <td>10936.608050</td>\n",
       "    </tr>\n",
       "  </tbody>\n",
       "</table>\n",
       "<p>5 rows × 21 columns</p>\n",
       "</div>"
      ],
      "text/plain": [
       "              % Black  % Ame Indi and AK Native   % Asian  \\\n",
       "GEOID                                                       \n",
       "36081040700  0.045621                  0.007010  0.035591   \n",
       "36085030301  0.120352                  0.002544  0.209198   \n",
       "36081030600  0.855427                  0.000000  0.032726   \n",
       "36081099705  0.000000                  0.000000  0.437407   \n",
       "36081027400  0.819860                  0.000000  0.037556   \n",
       "\n",
       "             % Nati Hawa and Paci Island  % Hispanic or Latino    % male  \\\n",
       "GEOID                                                                      \n",
       "36081040700                          0.0              0.917494  0.541954   \n",
       "36085030301                          0.0              0.308611  0.490020   \n",
       "36081030600                          0.0              0.067730  0.459818   \n",
       "36081099705                          0.0              0.104694  0.511923   \n",
       "36081027400                          0.0              0.047740  0.355188   \n",
       "\n",
       "             % married  % age 18-29  % age 30-39  % age 40-49  ...  \\\n",
       "GEOID                                                          ...   \n",
       "36081040700   0.414732     0.172131     0.205242     0.137295  ...   \n",
       "36085030301   0.515054     0.237573     0.123483     0.136008  ...   \n",
       "36081030600   0.457799     0.142709     0.158244     0.114954  ...   \n",
       "36081099705   0.574672     0.156855     0.095380     0.133010  ...   \n",
       "36081027400   0.322870     0.125398     0.122852     0.150223  ...   \n",
       "\n",
       "             % age >=60  % <highschool  median income  % unemployment  \\\n",
       "GEOID                                                                   \n",
       "36081040700    0.090703       0.456792          50993        0.039768   \n",
       "36085030301    0.193151       0.127330          76641        0.058712   \n",
       "36081030600    0.194490       0.151437          75529        0.052151   \n",
       "36081099705    0.253353       0.078818         108009        0.015395   \n",
       "36081027400    0.218332       0.140323          65938        0.051546   \n",
       "\n",
       "             % below poverty line  % food stamp/SNAP  \\\n",
       "GEOID                                                  \n",
       "36081040700              0.202918           0.302752   \n",
       "36085030301              0.087323           0.047671   \n",
       "36081030600              0.152285           0.171363   \n",
       "36081099705              0.077124           0.032227   \n",
       "36081027400              0.092298           0.196181   \n",
       "\n",
       "             median value units built  median year units built  \\\n",
       "GEOID                                                            \n",
       "36081040700                    636600                     1947   \n",
       "36085030301                    355100                     1977   \n",
       "36081030600                    417100                     1958   \n",
       "36081099705                    624400                     1981   \n",
       "36081027400                    347600                     1964   \n",
       "\n",
       "             % renter-occupied housing units  population density  \n",
       "GEOID                                                             \n",
       "36081040700                         0.863405        46498.332540  \n",
       "36085030301                         0.317808         7109.130015  \n",
       "36081030600                         0.345011         3575.395826  \n",
       "36081099705                         0.275829          539.352236  \n",
       "36081027400                         0.189236        10936.608050  \n",
       "\n",
       "[5 rows x 21 columns]"
      ]
     },
     "execution_count": 11,
     "metadata": {},
     "output_type": "execute_result"
    }
   ],
   "source": [
    "X_sociodemo_train.head()"
   ]
  },
  {
   "cell_type": "code",
   "execution_count": 12,
   "id": "5639f119",
   "metadata": {},
   "outputs": [
    {
     "data": {
      "text/plain": [
       "(1396, 1396)"
      ]
     },
     "execution_count": 12,
     "metadata": {},
     "output_type": "execute_result"
    }
   ],
   "source": [
    "len(X_sociodemo_train), len(y_train)"
   ]
  },
  {
   "cell_type": "code",
   "execution_count": 13,
   "id": "b561bd82",
   "metadata": {},
   "outputs": [
    {
     "data": {
      "text/plain": [
       "array([31.9, 30.9, 34.1, ..., 32.1, 35.3, 28.6])"
      ]
     },
     "execution_count": 13,
     "metadata": {},
     "output_type": "execute_result"
    }
   ],
   "source": [
    "y_train"
   ]
  },
  {
   "cell_type": "code",
   "execution_count": 14,
   "id": "6b6fc0d2",
   "metadata": {},
   "outputs": [
    {
     "data": {
      "text/plain": [
       "21"
      ]
     },
     "execution_count": 14,
     "metadata": {},
     "output_type": "execute_result"
    }
   ],
   "source": [
    "# Store the number of sociodemographic features\n",
    "number_sociodemo = len(X_sociodemo_train.columns)\n",
    "number_sociodemo"
   ]
  },
  {
   "cell_type": "code",
   "execution_count": 15,
   "id": "a2c7e5ed",
   "metadata": {},
   "outputs": [],
   "source": [
    "# Create list of max_features to be searched\n",
    "max_features = [number_sociodemo, int(number_sociodemo/2), int(number_sociodemo/3), 'sqrt', 'log2']"
   ]
  },
  {
   "cell_type": "code",
   "execution_count": 11,
   "id": "b2dc7b3a",
   "metadata": {},
   "outputs": [
    {
     "data": {
      "text/plain": [
       "GridSearchCV(cv=10,\n",
       "             estimator=Pipeline(steps=[('scale', StandardScaler()),\n",
       "                                       ('model',\n",
       "                                        RandomForestRegressor(random_state=42))]),\n",
       "             n_jobs=-1,\n",
       "             param_grid=[{'model__max_features': [21, 10, 7, 'sqrt', 'log2'],\n",
       "                          'model__n_estimators': range(10, 1010, 10)},\n",
       "                         {'model__bootstrap': [False],\n",
       "                          'model__max_features': [21, 10, 7, 'sqrt', 'log2'],\n",
       "                          'model__n_estimators': range(10, 1010, 10)}],\n",
       "             return_train_score=True, scoring='neg_mean_squared_error')"
      ]
     },
     "execution_count": 11,
     "metadata": {},
     "output_type": "execute_result"
    }
   ],
   "source": [
    "# Grid search - sociodemographic features\n",
    "rf = RandomForestRegressor(random_state=42)\n",
    "\n",
    "RandomForestRegressor()\n",
    "\n",
    "pipe = Pipeline([\n",
    "    ('scale', StandardScaler()), # standardization data set\n",
    "    ('model', rf)\n",
    "])\n",
    "\n",
    "param_grid = [\n",
    "    {'model__n_estimators': range(10, 1010, 10),\n",
    "     'model__max_features':max_features},\n",
    "    {'model__bootstrap':[False],\n",
    "     'model__n_estimators': range(10, 1010, 10),\n",
    "     'model__max_features':max_features}\n",
    "]\n",
    "\n",
    "rf_sociodemo_search = GridSearchCV(pipe, param_grid, cv=10, scoring='neg_mean_squared_error', n_jobs=-1, return_train_score=True)\n",
    "rf_sociodemo_search.fit(X_sociodemo_train, y_train)"
   ]
  },
  {
   "cell_type": "code",
   "execution_count": 13,
   "id": "9f38440d",
   "metadata": {},
   "outputs": [
    {
     "name": "stdout",
     "output_type": "stream",
     "text": [
      "{'model__bootstrap': False, 'model__max_features': 7, 'model__n_estimators': 560}\n"
     ]
    }
   ],
   "source": [
    "# Optimal parameters for sociodemographic features\n",
    "print(rf_sociodemo_search.best_params_)"
   ]
  },
  {
   "cell_type": "code",
   "execution_count": 14,
   "id": "af883277",
   "metadata": {},
   "outputs": [],
   "source": [
    "rf_sociodemo_search.best_params_results = pd.DataFrame(rf_sociodemo_search.best_params_, index = [0])\n",
    "rf_sociodemo_search.best_params_results.to_csv(\"../Data/04 Data for RF and DNN Optimal Parameters Search/02 70%_NYC_1000/rf_sociodemo_search.best_params_results.csv\", index=False)"
   ]
  },
  {
   "cell_type": "code",
   "execution_count": 15,
   "id": "e1f23402",
   "metadata": {},
   "outputs": [],
   "source": [
    "# Obtain all the searching results\n",
    "sociodemo_cvres = rf_sociodemo_search.cv_results_\n",
    "\n",
    "df_sociodemo_all_results = pd.DataFrame(sociodemo_cvres)\n",
    "df_sociodemo_all_results.to_csv(\"../Data/04 Data for RF and DNN Optimal Parameters Search/02 70%_NYC_1000/rf_sociodemo_all_results.csv\", index=False)\n",
    "\n",
    "df_sociodemo_param_score = pd.DataFrame({'param':sociodemo_cvres['params'], 'rmts':np.sqrt(-sociodemo_cvres['mean_test_score'])}) #- suppose = negative, need to find out\n",
    "df_sociodemo_param_score.to_csv(\"../Data/04 Data for RF and DNN Optimal Parameters Search/02 70%_NYC_1000/rf_sociodemo_param_score.csv\", index=False)"
   ]
  }
 ],
 "metadata": {
  "kernelspec": {
   "display_name": "Python 3 (ipykernel)",
   "language": "python",
   "name": "python3"
  },
  "language_info": {
   "codemirror_mode": {
    "name": "ipython",
    "version": 3
   },
   "file_extension": ".py",
   "mimetype": "text/x-python",
   "name": "python",
   "nbconvert_exporter": "python",
   "pygments_lexer": "ipython3",
   "version": "3.9.12"
  }
 },
 "nbformat": 4,
 "nbformat_minor": 5
}
